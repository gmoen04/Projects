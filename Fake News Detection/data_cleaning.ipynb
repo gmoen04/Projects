{
 "cells": [
  {
   "cell_type": "markdown",
   "id": "d467012c",
   "metadata": {},
   "source": [
    "# Detecting Fake News - Cleaning Data"
   ]
  },
  {
   "cell_type": "markdown",
   "id": "7d88f8ec",
   "metadata": {},
   "source": [
    "### Importing libraries"
   ]
  },
  {
   "cell_type": "code",
   "execution_count": 1,
   "id": "d8d25eaf",
   "metadata": {},
   "outputs": [],
   "source": [
    "import nltk\n",
    "import pandas as pd\n",
    "import numpy as np\n",
    "import matplotlib.pyplot as plt\n",
    "import re\n",
    "import string\n",
    "import seaborn as sns\n",
    "pd.set_option('display.max_colwidth', 100)"
   ]
  },
  {
   "cell_type": "markdown",
   "id": "89384318",
   "metadata": {},
   "source": [
    "### Import data, assign values & concatenate"
   ]
  },
  {
   "cell_type": "code",
   "execution_count": 3,
   "id": "3b97bc08",
   "metadata": {},
   "outputs": [],
   "source": [
    "data_fake = pd.read_csv(\"/Users/garethmoen/Documents/Data Science/Portfolio/Fake News Detection/dataset/Fake.csv\")\n",
    "data_fake['label'] = 'FALSE'\n",
    "data_true = pd.read_csv(\"/Users/garethmoen/Documents/Data Science/Portfolio/Fake News Detection/dataset/True.csv\")\n",
    "data_true['label'] = 'TRUE'"
   ]
  },
  {
   "cell_type": "markdown",
   "id": "2578072a",
   "metadata": {},
   "source": [
    "### Shuffle concatenated data, reindex, cut & write to csv"
   ]
  },
  {
   "cell_type": "code",
   "execution_count": 3,
   "id": "f1ff66a2",
   "metadata": {},
   "outputs": [],
   "source": [
    "data = pd.concat([data_fake, data_true]) # merge dataframes\n",
    "data = data.sample(frac=1).reset_index(drop=True)\n",
    "data = data.drop(columns=['title', 'subject', 'date']) # remove unnecessary columns\n",
    "data = data[0:2000]\n",
    "#data.to_csv(\"/Users/garethmoen/Documents/GitHub/Projects/Fake News Detection/dataset_reduced.csv\")"
   ]
  },
  {
   "cell_type": "markdown",
   "id": "c7390b1f",
   "metadata": {},
   "source": [
    "### View the data"
   ]
  },
  {
   "cell_type": "code",
   "execution_count": 4,
   "id": "11637eed",
   "metadata": {},
   "outputs": [
    {
     "data": {
      "text/html": [
       "<div>\n",
       "<style scoped>\n",
       "    .dataframe tbody tr th:only-of-type {\n",
       "        vertical-align: middle;\n",
       "    }\n",
       "\n",
       "    .dataframe tbody tr th {\n",
       "        vertical-align: top;\n",
       "    }\n",
       "\n",
       "    .dataframe thead th {\n",
       "        text-align: right;\n",
       "    }\n",
       "</style>\n",
       "<table border=\"1\" class=\"dataframe\">\n",
       "  <thead>\n",
       "    <tr style=\"text-align: right;\">\n",
       "      <th></th>\n",
       "      <th>text</th>\n",
       "      <th>label</th>\n",
       "    </tr>\n",
       "  </thead>\n",
       "  <tbody>\n",
       "    <tr>\n",
       "      <th>0</th>\n",
       "      <td>WASHINGTON (Reuters) - The White House on Friday said it will rely on international experts to e...</td>\n",
       "      <td>TRUE</td>\n",
       "    </tr>\n",
       "    <tr>\n",
       "      <th>1</th>\n",
       "      <td>BANGKOK (Reuters) - Armed insurgents stopped and torched a Bangkok-bound passenger bus on a high...</td>\n",
       "      <td>TRUE</td>\n",
       "    </tr>\n",
       "    <tr>\n",
       "      <th>2</th>\n",
       "      <td>A Princeton professor gives viewers of FOX News a shocking demonstration that proves how easily ...</td>\n",
       "      <td>FALSE</td>\n",
       "    </tr>\n",
       "    <tr>\n",
       "      <th>3</th>\n",
       "      <td>As we all remember last year, Pope Francis made a historic visit and was beloved by pretty much ...</td>\n",
       "      <td>FALSE</td>\n",
       "    </tr>\n",
       "    <tr>\n",
       "      <th>4</th>\n",
       "      <td>(Reuters) - Donald Trump’s presidential campaign manager was arrested and charged with misdemean...</td>\n",
       "      <td>TRUE</td>\n",
       "    </tr>\n",
       "    <tr>\n",
       "      <th>5</th>\n",
       "      <td>By Vin ArmaniHillary Clinton continues to blame Russia for the email leak   even though it does...</td>\n",
       "      <td>FALSE</td>\n",
       "    </tr>\n",
       "    <tr>\n",
       "      <th>6</th>\n",
       "      <td>Donald Trump held a press conference today to clarify every since bit of accusations made that h...</td>\n",
       "      <td>FALSE</td>\n",
       "    </tr>\n",
       "    <tr>\n",
       "      <th>7</th>\n",
       "      <td>ISLAMABAD (Reuters) - Pakistani Finance Minister Ishaq Dar pleaded not guilty on Wednesday to ow...</td>\n",
       "      <td>TRUE</td>\n",
       "    </tr>\n",
       "    <tr>\n",
       "      <th>8</th>\n",
       "      <td>https://www.youtube.com/watch?time_continue=2&amp;v=IjWClQcKhD8</td>\n",
       "      <td>FALSE</td>\n",
       "    </tr>\n",
       "    <tr>\n",
       "      <th>9</th>\n",
       "      <td>WASHINGTON (Reuters) - U.S. Senate Republican leader Mitch McConnell said on Sunday that he is o...</td>\n",
       "      <td>TRUE</td>\n",
       "    </tr>\n",
       "  </tbody>\n",
       "</table>\n",
       "</div>"
      ],
      "text/plain": [
       "                                                                                                  text  \\\n",
       "0  WASHINGTON (Reuters) - The White House on Friday said it will rely on international experts to e...   \n",
       "1  BANGKOK (Reuters) - Armed insurgents stopped and torched a Bangkok-bound passenger bus on a high...   \n",
       "2  A Princeton professor gives viewers of FOX News a shocking demonstration that proves how easily ...   \n",
       "3  As we all remember last year, Pope Francis made a historic visit and was beloved by pretty much ...   \n",
       "4  (Reuters) - Donald Trump’s presidential campaign manager was arrested and charged with misdemean...   \n",
       "5   By Vin ArmaniHillary Clinton continues to blame Russia for the email leak   even though it does...   \n",
       "6  Donald Trump held a press conference today to clarify every since bit of accusations made that h...   \n",
       "7  ISLAMABAD (Reuters) - Pakistani Finance Minister Ishaq Dar pleaded not guilty on Wednesday to ow...   \n",
       "8                                          https://www.youtube.com/watch?time_continue=2&v=IjWClQcKhD8   \n",
       "9  WASHINGTON (Reuters) - U.S. Senate Republican leader Mitch McConnell said on Sunday that he is o...   \n",
       "\n",
       "   label  \n",
       "0   TRUE  \n",
       "1   TRUE  \n",
       "2  FALSE  \n",
       "3  FALSE  \n",
       "4   TRUE  \n",
       "5  FALSE  \n",
       "6  FALSE  \n",
       "7   TRUE  \n",
       "8  FALSE  \n",
       "9   TRUE  "
      ]
     },
     "execution_count": 4,
     "metadata": {},
     "output_type": "execute_result"
    }
   ],
   "source": [
    "data.head(10)"
   ]
  },
  {
   "cell_type": "markdown",
   "id": "59148991",
   "metadata": {},
   "source": [
    "### Look at a single text"
   ]
  },
  {
   "cell_type": "code",
   "execution_count": 5,
   "id": "95c17ef6",
   "metadata": {},
   "outputs": [
    {
     "data": {
      "text/plain": [
       "'Donald Trump held a press conference today to clarify every since bit of accusations made that he pocketed over six million dollars meant for veterans. Basically, Trump shut the liberal media down. It was awesome! What was even better was watching a New Hampshire lawmaker rip into the liberal press like I ve never seen! '"
      ]
     },
     "execution_count": 5,
     "metadata": {},
     "output_type": "execute_result"
    }
   ],
   "source": [
    "data.at[6, 'text'] # access a single value by index (row) and label (column name)"
   ]
  },
  {
   "cell_type": "markdown",
   "id": "454c234a",
   "metadata": {},
   "source": [
    "### Look at a second text"
   ]
  },
  {
   "cell_type": "code",
   "execution_count": 6,
   "id": "b442c4d5",
   "metadata": {},
   "outputs": [
    {
     "data": {
      "text/plain": [
       "0         TRUE\n",
       "1         TRUE\n",
       "2        FALSE\n",
       "3        FALSE\n",
       "4         TRUE\n",
       "         ...  \n",
       "44893    FALSE\n",
       "44894    FALSE\n",
       "44895    FALSE\n",
       "44896    FALSE\n",
       "44897    FALSE\n",
       "Name: label, Length: 44898, dtype: object"
      ]
     },
     "execution_count": 6,
     "metadata": {},
     "output_type": "execute_result"
    }
   ],
   "source": [
    "data.iloc[:, 1] # Select rows and all columns"
   ]
  },
  {
   "cell_type": "markdown",
   "id": "8370e503",
   "metadata": {},
   "source": [
    "### Shape of data"
   ]
  },
  {
   "cell_type": "code",
   "execution_count": 7,
   "id": "edfa637e",
   "metadata": {},
   "outputs": [
    {
     "name": "stdout",
     "output_type": "stream",
     "text": [
      "Dataset has 44898 rows and 2 columns\n"
     ]
    }
   ],
   "source": [
    "print(\"Dataset has {} rows and {} columns\".format(len(data), len(data.columns)))"
   ]
  },
  {
   "cell_type": "markdown",
   "id": "b89787dd",
   "metadata": {},
   "source": [
    "### Number of True & False values"
   ]
  },
  {
   "cell_type": "code",
   "execution_count": 8,
   "id": "7b4bd321",
   "metadata": {},
   "outputs": [
    {
     "name": "stdout",
     "output_type": "stream",
     "text": [
      "Out of 44898 rows, 21417 are true, 23481 are false\n"
     ]
    }
   ],
   "source": [
    "print(\"Out of {} rows, {} are true, {} are false\".format(len(data),\n",
    "                                                       len(data[data['label']=='TRUE']),\n",
    "                                                       len(data[data['label']=='FALSE'])))"
   ]
  },
  {
   "cell_type": "markdown",
   "id": "4fbb077b",
   "metadata": {},
   "source": [
    "### Missing values & short texts"
   ]
  },
  {
   "cell_type": "code",
   "execution_count": 9,
   "id": "3b2f7df7",
   "metadata": {},
   "outputs": [
    {
     "name": "stdout",
     "output_type": "stream",
     "text": [
      "Number of texts with less than 300 characters is: 2162\n"
     ]
    }
   ],
   "source": [
    "print(\"Number of texts with less than 300 characters is: {}\".format(sum(data['text'].str.len() <= 300)))\n",
    "#sum(data['text'].str.len() <= 300)"
   ]
  },
  {
   "cell_type": "markdown",
   "id": "4e2aa1cd",
   "metadata": {},
   "source": [
    "### Remove empty or short texts (less than 300 characters), shuffle texts & reset index"
   ]
  },
  {
   "cell_type": "code",
   "execution_count": 10,
   "id": "7075c779",
   "metadata": {},
   "outputs": [],
   "source": [
    "data = data.loc[data['text'].str.len() >= 300]\n",
    "data = data.sample(frac=1).reset_index(drop=True)"
   ]
  },
  {
   "cell_type": "code",
   "execution_count": 11,
   "id": "bb001acd",
   "metadata": {},
   "outputs": [
    {
     "data": {
      "text/html": [
       "<div>\n",
       "<style scoped>\n",
       "    .dataframe tbody tr th:only-of-type {\n",
       "        vertical-align: middle;\n",
       "    }\n",
       "\n",
       "    .dataframe tbody tr th {\n",
       "        vertical-align: top;\n",
       "    }\n",
       "\n",
       "    .dataframe thead th {\n",
       "        text-align: right;\n",
       "    }\n",
       "</style>\n",
       "<table border=\"1\" class=\"dataframe\">\n",
       "  <thead>\n",
       "    <tr style=\"text-align: right;\">\n",
       "      <th></th>\n",
       "      <th>text</th>\n",
       "      <th>label</th>\n",
       "    </tr>\n",
       "  </thead>\n",
       "  <tbody>\n",
       "    <tr>\n",
       "      <th>0</th>\n",
       "      <td>WASHINGTON (Reuters) - Thousands of demonstrators are expected to turn out in Washington next we...</td>\n",
       "      <td>TRUE</td>\n",
       "    </tr>\n",
       "    <tr>\n",
       "      <th>1</th>\n",
       "      <td>Is anyone else getting sick and tired of hearing all of the baseless lies being told about Trump...</td>\n",
       "      <td>FALSE</td>\n",
       "    </tr>\n",
       "    <tr>\n",
       "      <th>2</th>\n",
       "      <td>The pro-gun crowd loves guns first, and respect last. At least, that seems to be the case with w...</td>\n",
       "      <td>FALSE</td>\n",
       "    </tr>\n",
       "    <tr>\n",
       "      <th>3</th>\n",
       "      <td>WASHINGTON (Reuters) - Republican presidential candidate Donald Trump, a golf resort developer w...</td>\n",
       "      <td>TRUE</td>\n",
       "    </tr>\n",
       "    <tr>\n",
       "      <th>4</th>\n",
       "      <td>MOSCOW (Reuters) - Russian oil major Rosneft has received court summons for its Chief Executive ...</td>\n",
       "      <td>TRUE</td>\n",
       "    </tr>\n",
       "    <tr>\n",
       "      <th>5</th>\n",
       "      <td>CLEVELAND (Reuters) - People seeking a deeper understanding of Donald Trump’s economic policy ca...</td>\n",
       "      <td>TRUE</td>\n",
       "    </tr>\n",
       "    <tr>\n",
       "      <th>6</th>\n",
       "      <td>WASHINGTON (Reuters) - The Senate voted overwhelmingly on Wednesday to confirm Dr. Robert Califf...</td>\n",
       "      <td>TRUE</td>\n",
       "    </tr>\n",
       "    <tr>\n",
       "      <th>7</th>\n",
       "      <td>LONDON (Reuters) - Britain will be in the “front seat” to negotiate a new trade deal with the in...</td>\n",
       "      <td>TRUE</td>\n",
       "    </tr>\n",
       "    <tr>\n",
       "      <th>8</th>\n",
       "      <td>Marco Rubio might have been flying high after the results from Iowa, but he well and truly crash...</td>\n",
       "      <td>FALSE</td>\n",
       "    </tr>\n",
       "    <tr>\n",
       "      <th>9</th>\n",
       "      <td>LIMA (Reuters) - Peru’s President Pedro Pablo Kuczynski could end up the surprise winner of an a...</td>\n",
       "      <td>TRUE</td>\n",
       "    </tr>\n",
       "    <tr>\n",
       "      <th>10</th>\n",
       "      <td>WASHINGTON (Reuters) - Republican U.S. Senator Ted Cruz on Sunday said he opposes the latest ver...</td>\n",
       "      <td>TRUE</td>\n",
       "    </tr>\n",
       "    <tr>\n",
       "      <th>11</th>\n",
       "      <td>WASHINGTON/AMMAN (Reuters) - A Pentagon-backed rebel group and the U.S.-led coalition fighting I...</td>\n",
       "      <td>TRUE</td>\n",
       "    </tr>\n",
       "    <tr>\n",
       "      <th>12</th>\n",
       "      <td>[vc_row][vc_column width= 1/1 ][td_block_trending_now limit= 5 ][td_block_big_grid sort= feature...</td>\n",
       "      <td>FALSE</td>\n",
       "    </tr>\n",
       "    <tr>\n",
       "      <th>13</th>\n",
       "      <td>Following the horrific tragedy in Dallas, Texas, the Congressional Black Caucus expressed grief,...</td>\n",
       "      <td>FALSE</td>\n",
       "    </tr>\n",
       "    <tr>\n",
       "      <th>14</th>\n",
       "      <td>By now, everyone knows that disgraced National Security Adviser Michael Flynn has flipped on Don...</td>\n",
       "      <td>FALSE</td>\n",
       "    </tr>\n",
       "    <tr>\n",
       "      <th>15</th>\n",
       "      <td>BEIRUT (Reuters) - Lebanon s interior minister said on Thursday that Uber driver suspected of mu...</td>\n",
       "      <td>TRUE</td>\n",
       "    </tr>\n",
       "    <tr>\n",
       "      <th>16</th>\n",
       "      <td>The GOP and the Donald Trump for president campaign are reeling after the world watched and list...</td>\n",
       "      <td>FALSE</td>\n",
       "    </tr>\n",
       "    <tr>\n",
       "      <th>17</th>\n",
       "      <td>In the age of Donald Trump, it seems that Twitter is ground zero for public spats, public shamin...</td>\n",
       "      <td>FALSE</td>\n",
       "    </tr>\n",
       "    <tr>\n",
       "      <th>18</th>\n",
       "      <td>How can it possibly be legal for these terrorists to lock arms and block innocent shoppers from ...</td>\n",
       "      <td>FALSE</td>\n",
       "    </tr>\n",
       "    <tr>\n",
       "      <th>19</th>\n",
       "      <td>Open Borders/ImmigrationTrade/OverregulationForeign PolicyNow that s what we need to discuss but...</td>\n",
       "      <td>FALSE</td>\n",
       "    </tr>\n",
       "  </tbody>\n",
       "</table>\n",
       "</div>"
      ],
      "text/plain": [
       "                                                                                                   text  \\\n",
       "0   WASHINGTON (Reuters) - Thousands of demonstrators are expected to turn out in Washington next we...   \n",
       "1   Is anyone else getting sick and tired of hearing all of the baseless lies being told about Trump...   \n",
       "2   The pro-gun crowd loves guns first, and respect last. At least, that seems to be the case with w...   \n",
       "3   WASHINGTON (Reuters) - Republican presidential candidate Donald Trump, a golf resort developer w...   \n",
       "4   MOSCOW (Reuters) - Russian oil major Rosneft has received court summons for its Chief Executive ...   \n",
       "5   CLEVELAND (Reuters) - People seeking a deeper understanding of Donald Trump’s economic policy ca...   \n",
       "6   WASHINGTON (Reuters) - The Senate voted overwhelmingly on Wednesday to confirm Dr. Robert Califf...   \n",
       "7   LONDON (Reuters) - Britain will be in the “front seat” to negotiate a new trade deal with the in...   \n",
       "8   Marco Rubio might have been flying high after the results from Iowa, but he well and truly crash...   \n",
       "9   LIMA (Reuters) - Peru’s President Pedro Pablo Kuczynski could end up the surprise winner of an a...   \n",
       "10  WASHINGTON (Reuters) - Republican U.S. Senator Ted Cruz on Sunday said he opposes the latest ver...   \n",
       "11  WASHINGTON/AMMAN (Reuters) - A Pentagon-backed rebel group and the U.S.-led coalition fighting I...   \n",
       "12  [vc_row][vc_column width= 1/1 ][td_block_trending_now limit= 5 ][td_block_big_grid sort= feature...   \n",
       "13  Following the horrific tragedy in Dallas, Texas, the Congressional Black Caucus expressed grief,...   \n",
       "14  By now, everyone knows that disgraced National Security Adviser Michael Flynn has flipped on Don...   \n",
       "15  BEIRUT (Reuters) - Lebanon s interior minister said on Thursday that Uber driver suspected of mu...   \n",
       "16  The GOP and the Donald Trump for president campaign are reeling after the world watched and list...   \n",
       "17  In the age of Donald Trump, it seems that Twitter is ground zero for public spats, public shamin...   \n",
       "18  How can it possibly be legal for these terrorists to lock arms and block innocent shoppers from ...   \n",
       "19  Open Borders/ImmigrationTrade/OverregulationForeign PolicyNow that s what we need to discuss but...   \n",
       "\n",
       "    label  \n",
       "0    TRUE  \n",
       "1   FALSE  \n",
       "2   FALSE  \n",
       "3    TRUE  \n",
       "4    TRUE  \n",
       "5    TRUE  \n",
       "6    TRUE  \n",
       "7    TRUE  \n",
       "8   FALSE  \n",
       "9    TRUE  \n",
       "10   TRUE  \n",
       "11   TRUE  \n",
       "12  FALSE  \n",
       "13  FALSE  \n",
       "14  FALSE  \n",
       "15   TRUE  \n",
       "16  FALSE  \n",
       "17  FALSE  \n",
       "18  FALSE  \n",
       "19  FALSE  "
      ]
     },
     "execution_count": 11,
     "metadata": {},
     "output_type": "execute_result"
    }
   ],
   "source": [
    "data.head(20)"
   ]
  },
  {
   "cell_type": "code",
   "execution_count": 12,
   "id": "1eb5b8ce",
   "metadata": {},
   "outputs": [
    {
     "data": {
      "text/plain": [
       "'The pro-gun crowd loves guns first, and respect last. At least, that seems to be the case with whoever made a truly horrible meme out of an old black-and-white war photo. The photo depicts troops executing a couple of people in the back as they kneel in front of a mass grave. The troops  are just obeying orders,  and the dead in the mass grave are  citizens obeying gun laws. This is the meme:Image via TwitterWe don t know who created this, but we don t have enough middle fingers to express how we feel about them. The piece of shit behind this is no doubt someone who believes the lie that, had the Jewish citizens of Germany and elsewhere just had guns, the Holocaust wouldn t have happened.The photo in the meme is from the German-occupied Soviet Union, and depicts one of the mobile execution squads known as the Einsatzgr ppen. They were tasked with mass executions of Jews, communists, and anyone else that the Nazis decided weren t suitable to living their empire and master race. Tens of thousands were murdered this way   they are part of the Holocaust.The myth of guns and the Holocaust is so completely and terribly wrong it defies description. Yes, the Nazis seized guns from their enemies, however, they actually didn t make much of a dent in total gun circulation in Germany, contrary to what the gun-rights crowd wants us to believe.Furthermore, the Nazis actually loosened gun laws in 1938 for everyone except Jews. People who have a basic understanding of Nazi Germany know that the Nazis targeted more groups than Jews, and they know that more people than Jews opposed the Nazis however quietly they had to.Why didn t those people, who could own guns, rise up? It s because of the power of a police state   the very thing the  moar gunz  crowd fears the most.Therefore, the cretin who came up with this meme can rightfully be termed as having no clue what they are talking about. But worse than that, they have no problem whatsoever with using the horror of the Holocaust to further their  all guns all the time  agenda. That is just abominable, and has no place in any discourse at all. Here s why: This historical second-guessing is deeply offensive to Jews, Holocaust survivors and those who valiantly fought against Hitler during World War II. It is, in fact, as many historians have previously noted, a distortion of history itself When you manipulate the history of the Holocaust and use it to score political points, its wholly inappropriate and offensive. Especially for the sake of the victims of the Nazi onslaught and their memory, it must stop. That s from Jonathan Greenblatt, the national director of the Anti-Defamation League. He was speaking against Ben Carson s painfully offensive assertion that the Nazis had disarmed everyone so they could kill Jews with impunity, but it s just not true. And it s an serious affront to every single victim of the Nazis, as well as everyone who fought them.This meme s creator ought to go back to the depths of the hellish abyss that first spat him out.Featured image via screen capture from Twitter'"
      ]
     },
     "execution_count": 12,
     "metadata": {},
     "output_type": "execute_result"
    }
   ],
   "source": [
    "data.at[2, 'text'] # access a single value by index (row) and label (column name)"
   ]
  },
  {
   "cell_type": "markdown",
   "id": "13cb3e25",
   "metadata": {},
   "source": [
    "### Recheck new data shape"
   ]
  },
  {
   "cell_type": "code",
   "execution_count": 13,
   "id": "d1cb9778",
   "metadata": {},
   "outputs": [
    {
     "name": "stdout",
     "output_type": "stream",
     "text": [
      "Dataset has 42748 rows and 2 columns\n"
     ]
    }
   ],
   "source": [
    "print(\"Dataset has {} rows and {} columns\".format(len(data), len(data.columns)))"
   ]
  },
  {
   "cell_type": "markdown",
   "id": "31914fd1",
   "metadata": {},
   "source": [
    "### Start wrangling text"
   ]
  },
  {
   "cell_type": "code",
   "execution_count": 14,
   "id": "44516a6a",
   "metadata": {},
   "outputs": [
    {
     "data": {
      "text/plain": [
       "Index(['text', 'label'], dtype='object')"
      ]
     },
     "execution_count": 14,
     "metadata": {},
     "output_type": "execute_result"
    }
   ],
   "source": [
    "data.columns # now I have everything I need to start wrangling the texts"
   ]
  },
  {
   "cell_type": "markdown",
   "id": "8453f7f4",
   "metadata": {},
   "source": [
    "### Make text lowercase & reorder columns"
   ]
  },
  {
   "cell_type": "code",
   "execution_count": 15,
   "id": "84a819a5",
   "metadata": {},
   "outputs": [
    {
     "data": {
      "text/html": [
       "<div>\n",
       "<style scoped>\n",
       "    .dataframe tbody tr th:only-of-type {\n",
       "        vertical-align: middle;\n",
       "    }\n",
       "\n",
       "    .dataframe tbody tr th {\n",
       "        vertical-align: top;\n",
       "    }\n",
       "\n",
       "    .dataframe thead th {\n",
       "        text-align: right;\n",
       "    }\n",
       "</style>\n",
       "<table border=\"1\" class=\"dataframe\">\n",
       "  <thead>\n",
       "    <tr style=\"text-align: right;\">\n",
       "      <th></th>\n",
       "      <th>text</th>\n",
       "      <th>text_lower</th>\n",
       "      <th>label</th>\n",
       "    </tr>\n",
       "  </thead>\n",
       "  <tbody>\n",
       "    <tr>\n",
       "      <th>0</th>\n",
       "      <td>WASHINGTON (Reuters) - Thousands of demonstrators are expected to turn out in Washington next we...</td>\n",
       "      <td>washington (reuters) - thousands of demonstrators are expected to turn out in washington next we...</td>\n",
       "      <td>TRUE</td>\n",
       "    </tr>\n",
       "    <tr>\n",
       "      <th>1</th>\n",
       "      <td>Is anyone else getting sick and tired of hearing all of the baseless lies being told about Trump...</td>\n",
       "      <td>is anyone else getting sick and tired of hearing all of the baseless lies being told about trump...</td>\n",
       "      <td>FALSE</td>\n",
       "    </tr>\n",
       "    <tr>\n",
       "      <th>2</th>\n",
       "      <td>The pro-gun crowd loves guns first, and respect last. At least, that seems to be the case with w...</td>\n",
       "      <td>the pro-gun crowd loves guns first, and respect last. at least, that seems to be the case with w...</td>\n",
       "      <td>FALSE</td>\n",
       "    </tr>\n",
       "    <tr>\n",
       "      <th>3</th>\n",
       "      <td>WASHINGTON (Reuters) - Republican presidential candidate Donald Trump, a golf resort developer w...</td>\n",
       "      <td>washington (reuters) - republican presidential candidate donald trump, a golf resort developer w...</td>\n",
       "      <td>TRUE</td>\n",
       "    </tr>\n",
       "    <tr>\n",
       "      <th>4</th>\n",
       "      <td>MOSCOW (Reuters) - Russian oil major Rosneft has received court summons for its Chief Executive ...</td>\n",
       "      <td>moscow (reuters) - russian oil major rosneft has received court summons for its chief executive ...</td>\n",
       "      <td>TRUE</td>\n",
       "    </tr>\n",
       "  </tbody>\n",
       "</table>\n",
       "</div>"
      ],
      "text/plain": [
       "                                                                                                  text  \\\n",
       "0  WASHINGTON (Reuters) - Thousands of demonstrators are expected to turn out in Washington next we...   \n",
       "1  Is anyone else getting sick and tired of hearing all of the baseless lies being told about Trump...   \n",
       "2  The pro-gun crowd loves guns first, and respect last. At least, that seems to be the case with w...   \n",
       "3  WASHINGTON (Reuters) - Republican presidential candidate Donald Trump, a golf resort developer w...   \n",
       "4  MOSCOW (Reuters) - Russian oil major Rosneft has received court summons for its Chief Executive ...   \n",
       "\n",
       "                                                                                            text_lower  \\\n",
       "0  washington (reuters) - thousands of demonstrators are expected to turn out in washington next we...   \n",
       "1  is anyone else getting sick and tired of hearing all of the baseless lies being told about trump...   \n",
       "2  the pro-gun crowd loves guns first, and respect last. at least, that seems to be the case with w...   \n",
       "3  washington (reuters) - republican presidential candidate donald trump, a golf resort developer w...   \n",
       "4  moscow (reuters) - russian oil major rosneft has received court summons for its chief executive ...   \n",
       "\n",
       "   label  \n",
       "0   TRUE  \n",
       "1  FALSE  \n",
       "2  FALSE  \n",
       "3   TRUE  \n",
       "4   TRUE  "
      ]
     },
     "execution_count": 15,
     "metadata": {},
     "output_type": "execute_result"
    }
   ],
   "source": [
    "data['text_lower'] = data['text'].str.lower()\n",
    "data = data[['text','text_lower','label']] # organise columns in the order I want\n",
    "data.head()"
   ]
  },
  {
   "cell_type": "markdown",
   "id": "8d261576",
   "metadata": {},
   "source": [
    "### Remove non-letter characters"
   ]
  },
  {
   "cell_type": "code",
   "execution_count": 16,
   "id": "902d9264",
   "metadata": {},
   "outputs": [],
   "source": [
    "data['text_clean'] = data['text_lower'].map(lambda x: re.sub('^.+?[(Reuters)]+[\\s]+\\-', \"\", x)) # removes everything before the first '-' symbol \n",
    "data['text_clean'] = data['text_clean'].map(lambda x: re.sub('watch the full.+$', \"\", x))\n",
    "data['text_clean'] = data['text_clean'].map(lambda x: re.sub('featured image.+$', \"\", x))\n",
    "data['text_clean'] = data['text_clean'].map(lambda x: re.sub('writing by.+$', \"\", x))\n",
    "data['text_clean'] = data['text_clean'].map(lambda x: re.sub('via:.+$', \"\", x))\n",
    "data['text_clean'] = data['text_clean'].map(lambda x: re.sub('this artical originally.+$', \"\", x))\n",
    "data['text_clean'] = data['text_clean'].map(lambda x: re.sub('read more.+$', \"\", x))\n",
    "data['text_clean'] = data['text_clean'].map(lambda x: re.sub('wfb.+$', \"\", x))\n",
    "data['text_clean'] = data['text_clean'].map(lambda x: re.sub('this version of the story.+$', \"\", x))\n",
    "data['text_clean'] = data['text_clean'].map(lambda x: re.sub('photo by.+$', \"\", x))\n",
    "data['text_clean'] = data['text_clean'].map(lambda x: re.sub('((http|https)\\:\\/\\/)?[a-zA-Z0-9\\.\\/\\?\\:@\\-_=#]+\\.([a-zA-Z]){2,6}([a-zA-Z0-9\\.\\&\\/\\?\\:@\\-_=#])', \"\", x)) # URLs\n",
    "data['text_clean'] = data['text_clean'].map(lambda x: re.sub('@([A-Za-z0-9_]+)', \"\", x)) # Twitter usernames\n",
    "data['text_clean'] = data['text_clean'].map(lambda x: re.sub('cnn politics.+$', \"\", x))\n",
    "data['text_clean'] = data['text_clean'].map(lambda x: re.sub('daily mail.+$', \"\", x))"
   ]
  },
  {
   "cell_type": "code",
   "execution_count": 17,
   "id": "bd989492",
   "metadata": {},
   "outputs": [
    {
     "data": {
      "text/html": [
       "<div>\n",
       "<style scoped>\n",
       "    .dataframe tbody tr th:only-of-type {\n",
       "        vertical-align: middle;\n",
       "    }\n",
       "\n",
       "    .dataframe tbody tr th {\n",
       "        vertical-align: top;\n",
       "    }\n",
       "\n",
       "    .dataframe thead th {\n",
       "        text-align: right;\n",
       "    }\n",
       "</style>\n",
       "<table border=\"1\" class=\"dataframe\">\n",
       "  <thead>\n",
       "    <tr style=\"text-align: right;\">\n",
       "      <th></th>\n",
       "      <th>text</th>\n",
       "      <th>text_lower</th>\n",
       "      <th>label</th>\n",
       "      <th>text_clean</th>\n",
       "    </tr>\n",
       "  </thead>\n",
       "  <tbody>\n",
       "    <tr>\n",
       "      <th>0</th>\n",
       "      <td>WASHINGTON (Reuters) - Thousands of demonstrators are expected to turn out in Washington next we...</td>\n",
       "      <td>washington (reuters) - thousands of demonstrators are expected to turn out in washington next we...</td>\n",
       "      <td>TRUE</td>\n",
       "      <td>thousands of demonstrators are expected to turn out in washington next week for protests aiming...</td>\n",
       "    </tr>\n",
       "    <tr>\n",
       "      <th>1</th>\n",
       "      <td>Is anyone else getting sick and tired of hearing all of the baseless lies being told about Trump...</td>\n",
       "      <td>is anyone else getting sick and tired of hearing all of the baseless lies being told about trump...</td>\n",
       "      <td>FALSE</td>\n",
       "      <td>is anyone else getting sick and tired of hearing all of the baseless lies being told about trump...</td>\n",
       "    </tr>\n",
       "    <tr>\n",
       "      <th>2</th>\n",
       "      <td>The pro-gun crowd loves guns first, and respect last. At least, that seems to be the case with w...</td>\n",
       "      <td>the pro-gun crowd loves guns first, and respect last. at least, that seems to be the case with w...</td>\n",
       "      <td>FALSE</td>\n",
       "      <td>the pro-gun crowd loves guns first, and respect last. at least, that seems to be the case with w...</td>\n",
       "    </tr>\n",
       "    <tr>\n",
       "      <th>3</th>\n",
       "      <td>WASHINGTON (Reuters) - Republican presidential candidate Donald Trump, a golf resort developer w...</td>\n",
       "      <td>washington (reuters) - republican presidential candidate donald trump, a golf resort developer w...</td>\n",
       "      <td>TRUE</td>\n",
       "      <td>republican presidential candidate donald trump, a golf resort developer who has railed against ...</td>\n",
       "    </tr>\n",
       "    <tr>\n",
       "      <th>4</th>\n",
       "      <td>MOSCOW (Reuters) - Russian oil major Rosneft has received court summons for its Chief Executive ...</td>\n",
       "      <td>moscow (reuters) - russian oil major rosneft has received court summons for its chief executive ...</td>\n",
       "      <td>TRUE</td>\n",
       "      <td>russian oil major rosneft has received court summons for its chief executive igor sechin to app...</td>\n",
       "    </tr>\n",
       "  </tbody>\n",
       "</table>\n",
       "</div>"
      ],
      "text/plain": [
       "                                                                                                  text  \\\n",
       "0  WASHINGTON (Reuters) - Thousands of demonstrators are expected to turn out in Washington next we...   \n",
       "1  Is anyone else getting sick and tired of hearing all of the baseless lies being told about Trump...   \n",
       "2  The pro-gun crowd loves guns first, and respect last. At least, that seems to be the case with w...   \n",
       "3  WASHINGTON (Reuters) - Republican presidential candidate Donald Trump, a golf resort developer w...   \n",
       "4  MOSCOW (Reuters) - Russian oil major Rosneft has received court summons for its Chief Executive ...   \n",
       "\n",
       "                                                                                            text_lower  \\\n",
       "0  washington (reuters) - thousands of demonstrators are expected to turn out in washington next we...   \n",
       "1  is anyone else getting sick and tired of hearing all of the baseless lies being told about trump...   \n",
       "2  the pro-gun crowd loves guns first, and respect last. at least, that seems to be the case with w...   \n",
       "3  washington (reuters) - republican presidential candidate donald trump, a golf resort developer w...   \n",
       "4  moscow (reuters) - russian oil major rosneft has received court summons for its chief executive ...   \n",
       "\n",
       "   label  \\\n",
       "0   TRUE   \n",
       "1  FALSE   \n",
       "2  FALSE   \n",
       "3   TRUE   \n",
       "4   TRUE   \n",
       "\n",
       "                                                                                            text_clean  \n",
       "0   thousands of demonstrators are expected to turn out in washington next week for protests aiming...  \n",
       "1  is anyone else getting sick and tired of hearing all of the baseless lies being told about trump...  \n",
       "2  the pro-gun crowd loves guns first, and respect last. at least, that seems to be the case with w...  \n",
       "3   republican presidential candidate donald trump, a golf resort developer who has railed against ...  \n",
       "4   russian oil major rosneft has received court summons for its chief executive igor sechin to app...  "
      ]
     },
     "execution_count": 17,
     "metadata": {},
     "output_type": "execute_result"
    }
   ],
   "source": [
    "data.head()"
   ]
  },
  {
   "cell_type": "markdown",
   "id": "61ae58e3",
   "metadata": {},
   "source": [
    "### Clean up text"
   ]
  },
  {
   "cell_type": "code",
   "execution_count": 18,
   "id": "3dc8b986",
   "metadata": {},
   "outputs": [
    {
     "data": {
      "text/html": [
       "<div>\n",
       "<style scoped>\n",
       "    .dataframe tbody tr th:only-of-type {\n",
       "        vertical-align: middle;\n",
       "    }\n",
       "\n",
       "    .dataframe tbody tr th {\n",
       "        vertical-align: top;\n",
       "    }\n",
       "\n",
       "    .dataframe thead th {\n",
       "        text-align: right;\n",
       "    }\n",
       "</style>\n",
       "<table border=\"1\" class=\"dataframe\">\n",
       "  <thead>\n",
       "    <tr style=\"text-align: right;\">\n",
       "      <th></th>\n",
       "      <th>text</th>\n",
       "      <th>text_lower</th>\n",
       "      <th>label</th>\n",
       "      <th>text_clean</th>\n",
       "      <th>text_nostop</th>\n",
       "    </tr>\n",
       "  </thead>\n",
       "  <tbody>\n",
       "    <tr>\n",
       "      <th>0</th>\n",
       "      <td>WASHINGTON (Reuters) - Thousands of demonstrators are expected to turn out in Washington next we...</td>\n",
       "      <td>washington (reuters) - thousands of demonstrators are expected to turn out in washington next we...</td>\n",
       "      <td>TRUE</td>\n",
       "      <td>thousands of demonstrators are expected to turn out in washington next week for protests aiming...</td>\n",
       "      <td>[, thousands, demonstrators, expected, turn, washington, next, week, protests, aiming, shut, ina...</td>\n",
       "    </tr>\n",
       "    <tr>\n",
       "      <th>1</th>\n",
       "      <td>Is anyone else getting sick and tired of hearing all of the baseless lies being told about Trump...</td>\n",
       "      <td>is anyone else getting sick and tired of hearing all of the baseless lies being told about trump...</td>\n",
       "      <td>FALSE</td>\n",
       "      <td>is anyone else getting sick and tired of hearing all of the baseless lies being told about trump...</td>\n",
       "      <td>[anyone, else, getting, sick, tired, hearing, baseless, lies, told, trump, zero, evidence, trump...</td>\n",
       "    </tr>\n",
       "    <tr>\n",
       "      <th>2</th>\n",
       "      <td>The pro-gun crowd loves guns first, and respect last. At least, that seems to be the case with w...</td>\n",
       "      <td>the pro-gun crowd loves guns first, and respect last. at least, that seems to be the case with w...</td>\n",
       "      <td>FALSE</td>\n",
       "      <td>the pro-gun crowd loves guns first, and respect last. at least, that seems to be the case with w...</td>\n",
       "      <td>[progun, crowd, loves, guns, first, respect, last, least, seems, case, whoever, made, truly, hor...</td>\n",
       "    </tr>\n",
       "    <tr>\n",
       "      <th>3</th>\n",
       "      <td>WASHINGTON (Reuters) - Republican presidential candidate Donald Trump, a golf resort developer w...</td>\n",
       "      <td>washington (reuters) - republican presidential candidate donald trump, a golf resort developer w...</td>\n",
       "      <td>TRUE</td>\n",
       "      <td>republican presidential candidate donald trump, a golf resort developer who has railed against ...</td>\n",
       "      <td>[, republican, presidential, candidate, donald, trump, golf, resort, developer, railed, mexico, ...</td>\n",
       "    </tr>\n",
       "    <tr>\n",
       "      <th>4</th>\n",
       "      <td>MOSCOW (Reuters) - Russian oil major Rosneft has received court summons for its Chief Executive ...</td>\n",
       "      <td>moscow (reuters) - russian oil major rosneft has received court summons for its chief executive ...</td>\n",
       "      <td>TRUE</td>\n",
       "      <td>russian oil major rosneft has received court summons for its chief executive igor sechin to app...</td>\n",
       "      <td>[, russian, oil, major, rosneft, received, court, summons, chief, executive, igor, sechin, appea...</td>\n",
       "    </tr>\n",
       "  </tbody>\n",
       "</table>\n",
       "</div>"
      ],
      "text/plain": [
       "                                                                                                  text  \\\n",
       "0  WASHINGTON (Reuters) - Thousands of demonstrators are expected to turn out in Washington next we...   \n",
       "1  Is anyone else getting sick and tired of hearing all of the baseless lies being told about Trump...   \n",
       "2  The pro-gun crowd loves guns first, and respect last. At least, that seems to be the case with w...   \n",
       "3  WASHINGTON (Reuters) - Republican presidential candidate Donald Trump, a golf resort developer w...   \n",
       "4  MOSCOW (Reuters) - Russian oil major Rosneft has received court summons for its Chief Executive ...   \n",
       "\n",
       "                                                                                            text_lower  \\\n",
       "0  washington (reuters) - thousands of demonstrators are expected to turn out in washington next we...   \n",
       "1  is anyone else getting sick and tired of hearing all of the baseless lies being told about trump...   \n",
       "2  the pro-gun crowd loves guns first, and respect last. at least, that seems to be the case with w...   \n",
       "3  washington (reuters) - republican presidential candidate donald trump, a golf resort developer w...   \n",
       "4  moscow (reuters) - russian oil major rosneft has received court summons for its chief executive ...   \n",
       "\n",
       "   label  \\\n",
       "0   TRUE   \n",
       "1  FALSE   \n",
       "2  FALSE   \n",
       "3   TRUE   \n",
       "4   TRUE   \n",
       "\n",
       "                                                                                            text_clean  \\\n",
       "0   thousands of demonstrators are expected to turn out in washington next week for protests aiming...   \n",
       "1  is anyone else getting sick and tired of hearing all of the baseless lies being told about trump...   \n",
       "2  the pro-gun crowd loves guns first, and respect last. at least, that seems to be the case with w...   \n",
       "3   republican presidential candidate donald trump, a golf resort developer who has railed against ...   \n",
       "4   russian oil major rosneft has received court summons for its chief executive igor sechin to app...   \n",
       "\n",
       "                                                                                           text_nostop  \n",
       "0  [, thousands, demonstrators, expected, turn, washington, next, week, protests, aiming, shut, ina...  \n",
       "1  [anyone, else, getting, sick, tired, hearing, baseless, lies, told, trump, zero, evidence, trump...  \n",
       "2  [progun, crowd, loves, guns, first, respect, last, least, seems, case, whoever, made, truly, hor...  \n",
       "3  [, republican, presidential, candidate, donald, trump, golf, resort, developer, railed, mexico, ...  \n",
       "4  [, russian, oil, major, rosneft, received, court, summons, chief, executive, igor, sechin, appea...  "
      ]
     },
     "execution_count": 18,
     "metadata": {},
     "output_type": "execute_result"
    }
   ],
   "source": [
    "wn = nltk.WordNetLemmatizer()\n",
    "stopwords = nltk.corpus.stopwords.words('english')\n",
    "\n",
    "def clean_text(text):\n",
    "    text = \"\".join([word for word in text if word not in string.punctuation])\n",
    "    tokens = re.split('\\W+', text)\n",
    "    text = [word for word in tokens if word not in stopwords]\n",
    "    return text\n",
    "\n",
    "data['text_nostop'] = data['text_clean'].apply(lambda x: clean_text(x))\n",
    "\n",
    "data.head()"
   ]
  },
  {
   "cell_type": "markdown",
   "id": "b2007ca5",
   "metadata": {},
   "source": [
    "### Lemmatize words"
   ]
  },
  {
   "cell_type": "code",
   "execution_count": 19,
   "id": "e8dd9baa",
   "metadata": {},
   "outputs": [],
   "source": [
    "# def lemmatizing(tokenized_text):\n",
    "#     text = [wn.lemmatize(word) for word in tokenized_text]\n",
    "#     return text\n",
    "\n",
    "# data['text_lemmatized'] = data['text_nostop'].apply(lambda x: lemmatizing(x))\n",
    "\n",
    "# data.head(10)"
   ]
  },
  {
   "cell_type": "markdown",
   "id": "3781e8f6",
   "metadata": {},
   "source": [
    "### Stem text"
   ]
  },
  {
   "cell_type": "code",
   "execution_count": 21,
   "id": "cbd7bf17",
   "metadata": {},
   "outputs": [],
   "source": [
    "# Stem text if prefereable\n",
    "\n",
    "# import nltk # if not already done\n",
    "\n",
    "ps = nltk.PorterStemmer()\n",
    "\n",
    "# dir(ps) # looks at the attributes of the PorterStemmer\n",
    "\n",
    "def stemming(tokenized_text):\n",
    "    text = [ps.stem(word) for word in tokenized_text] # returns the stemmed word in the list\n",
    "    return text\n",
    "\n",
    "data['text_stemmed'] = data['text_nostop'].apply(lambda x: stemming(x))"
   ]
  },
  {
   "cell_type": "code",
   "execution_count": 22,
   "id": "fb7d7130",
   "metadata": {},
   "outputs": [],
   "source": [
    "data.to_csv(\"/Users/garethmoen/Documents/GitHub/Projects/Fake News Detection/dataset_reduced.csv\")"
   ]
  }
 ],
 "metadata": {
  "kernelspec": {
   "display_name": "Python 3 (ipykernel)",
   "language": "python",
   "name": "python3"
  },
  "language_info": {
   "codemirror_mode": {
    "name": "ipython",
    "version": 3
   },
   "file_extension": ".py",
   "mimetype": "text/x-python",
   "name": "python",
   "nbconvert_exporter": "python",
   "pygments_lexer": "ipython3",
   "version": "3.8.2"
  }
 },
 "nbformat": 4,
 "nbformat_minor": 5
}
