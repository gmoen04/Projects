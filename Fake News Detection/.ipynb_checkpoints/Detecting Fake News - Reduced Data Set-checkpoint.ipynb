{
 "cells": [
  {
   "cell_type": "markdown",
   "id": "d467012c",
   "metadata": {},
   "source": [
    "# Detecting Fake News"
   ]
  },
  {
   "cell_type": "code",
   "execution_count": 1,
   "id": "3e4ed181",
   "metadata": {},
   "outputs": [],
   "source": [
    "import nltk\n",
    "import pandas as pd\n",
    "import numpy as np\n",
    "import matplotlib.pyplot as plt\n",
    "import re\n",
    "import string\n",
    "import seaborn as sns\n",
    "pd.set_option('display.max_colwidth', 100)"
   ]
  },
  {
   "cell_type": "markdown",
   "id": "c418d2ee",
   "metadata": {},
   "source": [
    "### Read in data clean and stemmed data"
   ]
  },
  {
   "cell_type": "code",
   "execution_count": 2,
   "id": "44849131",
   "metadata": {},
   "outputs": [],
   "source": [
    "data = pd.read_csv('dataset_stem_reduced.csv')"
   ]
  },
  {
   "cell_type": "markdown",
   "id": "e63e1d5a",
   "metadata": {},
   "source": [
    "### Create new features"
   ]
  },
  {
   "cell_type": "code",
   "execution_count": 3,
   "id": "40e828b2",
   "metadata": {},
   "outputs": [],
   "source": [
    "# Length of text (from texts with extras, including publication name, removed)\n",
    "data['body_len'] = data['text_lower'].apply(lambda x: len(x) - x.count(\" \"))\n",
    "\n",
    "# Percentage of text which is punctuation (from last step which still had punctuation)\n",
    "def count_punct(text):\n",
    "    count = sum([1 for char in text if char in string.punctuation])\n",
    "    return round(count/(len(text) - text.count(\" \")), 3)*100\n",
    "\n",
    "data['punct%'] = data['text_lower'].apply(lambda x: count_punct(x))"
   ]
  },
  {
   "cell_type": "markdown",
   "id": "0b8dc843",
   "metadata": {},
   "source": [
    "### Evaluate text length feature"
   ]
  },
  {
   "cell_type": "code",
   "execution_count": 4,
   "id": "fe09b8f5",
   "metadata": {
    "scrolled": true
   },
   "outputs": [
    {
     "data": {
      "image/png": "[encoded data removed]",
      "text/plain": [
       "<Figure size 432x288 with 1 Axes>"
      ]
     },
     "metadata": {
      "needs_background": "light"
     },
     "output_type": "display_data"
    }
   ],
   "source": [
    "from matplotlib import pyplot\n",
    "%matplotlib inline\n",
    "\n",
    "bins = np.linspace(0, 8000, 100) # start point, end point, no. of cut points\n",
    "\n",
    "pyplot.hist(data[data['label']==True]['body_len'], bins, alpha=0.5, label=True)\n",
    "pyplot.hist(data[data['label']==False]['body_len'], bins, alpha=0.5, label=False)\n",
    "pyplot.legend(loc='upper right') # location for legend (which looks for 'label' in your data points)\n",
    "#pyplot.show() # print the chart in your notebook\n",
    "plt.xlabel('Length of text')\n",
    "plt.savefig('images/TextLengthFeature.jpg', dpi=300, bbox_inches='tight')\n",
    "\n",
    "# Notes\n",
    "\n",
    "# line 7: data[data['label']=='spam']['body_len'] # filters for 'body_len' but on that which is labelled as 'spam'\n",
    "# 'alpha=0.5' here tells us how dark we want the shading to be\n",
    "# 'normed=TRUE' normalises our plots to the same scale\n",
    "# 'label', at the end of the two lines, adds the label for the data to add to the legend"
   ]
  },
  {
   "cell_type": "markdown",
   "id": "1847f77d",
   "metadata": {},
   "source": [
    "Text length could be helpful in predicting values so I'll keep it."
   ]
  },
  {
   "cell_type": "markdown",
   "id": "2d9cc4c8",
   "metadata": {},
   "source": [
    "### Evaluate punctuation % feature"
   ]
  },
  {
   "cell_type": "code",
   "execution_count": 5,
   "id": "7cf37d8a",
   "metadata": {},
   "outputs": [
    {
     "data": {
      "image/png": "[encoded data removed]",
      "text/plain": [
       "<Figure size 432x288 with 1 Axes>"
      ]
     },
     "metadata": {
      "needs_background": "light"
     },
     "output_type": "display_data"
    }
   ],
   "source": [
    "%matplotlib inline\n",
    "\n",
    "bins = np.linspace(0, 8, 40) # start point, end point, no. of cut points\n",
    "\n",
    "pyplot.hist(data[data['label']==True]['punct%'], bins, alpha=0.5, label=True)\n",
    "pyplot.hist(data[data['label']==False]['punct%'], bins, alpha=0.5, label=False)\n",
    "pyplot.legend(loc='upper right') # location for legend (which looks for 'label' in your data points)\n",
    "plt.xlabel('Percentage of text as punctuation')\n",
    "plt.savefig('images/PercentPunctuation.jpg', dpi=300, bbox_inches='tight')\n",
    "#pyplot.show() # print the chart in your notebook"
   ]
  },
  {
   "cell_type": "markdown",
   "id": "1aca82eb",
   "metadata": {},
   "source": [
    "Punctuation percentage doesn't seem to be helpful so I won't keep it."
   ]
  },
  {
   "cell_type": "markdown",
   "id": "67a0df34",
   "metadata": {},
   "source": [
    "### Decide if transformation is needed"
   ]
  },
  {
   "cell_type": "code",
   "execution_count": 6,
   "id": "95976d78",
   "metadata": {},
   "outputs": [
    {
     "data": {
      "image/png": "[encoded data removed]",
      "text/plain": [
       "<Figure size 432x288 with 1 Axes>"
      ]
     },
     "metadata": {
      "needs_background": "light"
     },
     "output_type": "display_data"
    },
    {
     "data": {
      "image/png": "[encoded data removed]",
      "text/plain": [
       "<Figure size 432x288 with 1 Axes>"
      ]
     },
     "metadata": {
      "needs_background": "light"
     },
     "output_type": "display_data"
    }
   ],
   "source": [
    "%matplotlib inline\n",
    "\n",
    "# Histograms with a long tail and a number of outliers are best for transforming\n",
    "# We do this as a model might focus too much on a long tail and be biased\n",
    "\n",
    "# First histogram\n",
    "bins = np.linspace(0, 8000, 40)\n",
    "\n",
    "pyplot.hist(data['body_len'], bins) # no label, normed or apha needed here as we aren't comparing two distributions together\n",
    "pyplot.title(\"Body Length Distribution\")\n",
    "pyplot.show()\n",
    "\n",
    "# Second histogram\n",
    "\n",
    "bins = np.linspace(0, 10, 40)\n",
    "\n",
    "pyplot.hist(data['punct%'], bins)\n",
    "pyplot.title(\"Punctuation % Distribution\")\n",
    "pyplot.show()"
   ]
  },
  {
   "cell_type": "markdown",
   "id": "aeae4731",
   "metadata": {},
   "source": [
    "### Transform body length"
   ]
  },
  {
   "cell_type": "code",
   "execution_count": 7,
   "id": "6e51ebad",
   "metadata": {
    "scrolled": true
   },
   "outputs": [
    {
     "data": {
      "image/png": "[encoded data removed]",
      "text/plain": [
       "<Figure size 432x288 with 1 Axes>"
      ]
     },
     "metadata": {
      "needs_background": "light"
     },
     "output_type": "display_data"
    },
    {
     "data": {
      "image/png": "[encoded data removed]",
      "text/plain": [
       "<Figure size 432x288 with 1 Axes>"
      ]
     },
     "metadata": {
      "needs_background": "light"
     },
     "output_type": "display_data"
    },
    {
     "data": {
      "image/png": "[encoded data removed]",
      "text/plain": [
       "<Figure size 432x288 with 1 Axes>"
      ]
     },
     "metadata": {
      "needs_background": "light"
     },
     "output_type": "display_data"
    },
    {
     "data": {
      "image/png": "[encoded data removed]",
      "text/plain": [
       "<Figure size 432x288 with 1 Axes>"
      ]
     },
     "metadata": {
      "needs_background": "light"
     },
     "output_type": "display_data"
    },
    {
     "data": {
      "image/png": "[encoded data removed]",
      "text/plain": [
       "<Figure size 432x288 with 1 Axes>"
      ]
     },
     "metadata": {
      "needs_background": "light"
     },
     "output_type": "display_data"
    }
   ],
   "source": [
    "for i in [4, 5, 6, 7, 8]:\n",
    "    pyplot.hist((data['body_len'])**(1/i), bins=40)\n",
    "    pyplot.title('Transformation: 1/{}'.format(str(i)))\n",
    "    pyplot.show()"
   ]
  },
  {
   "cell_type": "code",
   "execution_count": 8,
   "id": "115fe808",
   "metadata": {},
   "outputs": [
    {
     "data": {
      "text/html": [
       "<div>\n",
       "<style scoped>\n",
       "    .dataframe tbody tr th:only-of-type {\n",
       "        vertical-align: middle;\n",
       "    }\n",
       "\n",
       "    .dataframe tbody tr th {\n",
       "        vertical-align: top;\n",
       "    }\n",
       "\n",
       "    .dataframe thead th {\n",
       "        text-align: right;\n",
       "    }\n",
       "</style>\n",
       "<table border=\"1\" class=\"dataframe\">\n",
       "  <thead>\n",
       "    <tr style=\"text-align: right;\">\n",
       "      <th></th>\n",
       "      <th>Unnamed: 0</th>\n",
       "      <th>text</th>\n",
       "      <th>text_lower</th>\n",
       "      <th>label</th>\n",
       "      <th>text_clean</th>\n",
       "      <th>text_nostop</th>\n",
       "      <th>text_stemmed</th>\n",
       "      <th>body_len</th>\n",
       "      <th>punct%</th>\n",
       "    </tr>\n",
       "  </thead>\n",
       "  <tbody>\n",
       "    <tr>\n",
       "      <th>0</th>\n",
       "      <td>0</td>\n",
       "      <td>WASHINGTON (Reuters) - Thousands of demonstrators are expected to turn out in Washington next we...</td>\n",
       "      <td>washington (reuters) - thousands of demonstrators are expected to turn out in washington next we...</td>\n",
       "      <td>True</td>\n",
       "      <td>thousands of demonstrators are expected to turn out in washington next week for protests aiming...</td>\n",
       "      <td>['', 'thousands', 'demonstrators', 'expected', 'turn', 'washington', 'next', 'week', 'protests',...</td>\n",
       "      <td>['', 'thousand', 'demonstr', 'expect', 'turn', 'washington', 'next', 'week', 'protest', 'aim', '...</td>\n",
       "      <td>2765</td>\n",
       "      <td>3.0</td>\n",
       "    </tr>\n",
       "    <tr>\n",
       "      <th>1</th>\n",
       "      <td>1</td>\n",
       "      <td>Is anyone else getting sick and tired of hearing all of the baseless lies being told about Trump...</td>\n",
       "      <td>is anyone else getting sick and tired of hearing all of the baseless lies being told about trump...</td>\n",
       "      <td>False</td>\n",
       "      <td>is anyone else getting sick and tired of hearing all of the baseless lies being told about trump...</td>\n",
       "      <td>['anyone', 'else', 'getting', 'sick', 'tired', 'hearing', 'baseless', 'lies', 'told', 'trump', '...</td>\n",
       "      <td>['anyon', 'els', 'get', 'sick', 'tire', 'hear', 'baseless', 'lie', 'told', 'trump', 'zero', 'evi...</td>\n",
       "      <td>303</td>\n",
       "      <td>2.0</td>\n",
       "    </tr>\n",
       "    <tr>\n",
       "      <th>2</th>\n",
       "      <td>2</td>\n",
       "      <td>The pro-gun crowd loves guns first, and respect last. At least, that seems to be the case with w...</td>\n",
       "      <td>the pro-gun crowd loves guns first, and respect last. at least, that seems to be the case with w...</td>\n",
       "      <td>False</td>\n",
       "      <td>the pro-gun crowd loves guns first, and respect last. at least, that seems to be the case with w...</td>\n",
       "      <td>['progun', 'crowd', 'loves', 'guns', 'first', 'respect', 'last', 'least', 'seems', 'case', 'whoe...</td>\n",
       "      <td>['progun', 'crowd', 'love', 'gun', 'first', 'respect', 'last', 'least', 'seem', 'case', 'whoever...</td>\n",
       "      <td>2528</td>\n",
       "      <td>2.5</td>\n",
       "    </tr>\n",
       "    <tr>\n",
       "      <th>3</th>\n",
       "      <td>3</td>\n",
       "      <td>WASHINGTON (Reuters) - Republican presidential candidate Donald Trump, a golf resort developer w...</td>\n",
       "      <td>washington (reuters) - republican presidential candidate donald trump, a golf resort developer w...</td>\n",
       "      <td>True</td>\n",
       "      <td>republican presidential candidate donald trump, a golf resort developer who has railed against ...</td>\n",
       "      <td>['', 'republican', 'presidential', 'candidate', 'donald', 'trump', 'golf', 'resort', 'developer'...</td>\n",
       "      <td>['', 'republican', 'presidenti', 'candid', 'donald', 'trump', 'golf', 'resort', 'develop', 'rail...</td>\n",
       "      <td>2128</td>\n",
       "      <td>1.9</td>\n",
       "    </tr>\n",
       "    <tr>\n",
       "      <th>4</th>\n",
       "      <td>4</td>\n",
       "      <td>MOSCOW (Reuters) - Russian oil major Rosneft has received court summons for its Chief Executive ...</td>\n",
       "      <td>moscow (reuters) - russian oil major rosneft has received court summons for its chief executive ...</td>\n",
       "      <td>True</td>\n",
       "      <td>russian oil major rosneft has received court summons for its chief executive igor sechin to app...</td>\n",
       "      <td>['', 'russian', 'oil', 'major', 'rosneft', 'received', 'court', 'summons', 'chief', 'executive',...</td>\n",
       "      <td>['', 'russian', 'oil', 'major', 'rosneft', 'receiv', 'court', 'summon', 'chief', 'execut', 'igor...</td>\n",
       "      <td>503</td>\n",
       "      <td>2.6</td>\n",
       "    </tr>\n",
       "  </tbody>\n",
       "</table>\n",
       "</div>"
      ],
      "text/plain": [
       "   Unnamed: 0  \\\n",
       "0           0   \n",
       "1           1   \n",
       "2           2   \n",
       "3           3   \n",
       "4           4   \n",
       "\n",
       "                                                                                                  text  \\\n",
       "0  WASHINGTON (Reuters) - Thousands of demonstrators are expected to turn out in Washington next we...   \n",
       "1  Is anyone else getting sick and tired of hearing all of the baseless lies being told about Trump...   \n",
       "2  The pro-gun crowd loves guns first, and respect last. At least, that seems to be the case with w...   \n",
       "3  WASHINGTON (Reuters) - Republican presidential candidate Donald Trump, a golf resort developer w...   \n",
       "4  MOSCOW (Reuters) - Russian oil major Rosneft has received court summons for its Chief Executive ...   \n",
       "\n",
       "                                                                                            text_lower  \\\n",
       "0  washington (reuters) - thousands of demonstrators are expected to turn out in washington next we...   \n",
       "1  is anyone else getting sick and tired of hearing all of the baseless lies being told about trump...   \n",
       "2  the pro-gun crowd loves guns first, and respect last. at least, that seems to be the case with w...   \n",
       "3  washington (reuters) - republican presidential candidate donald trump, a golf resort developer w...   \n",
       "4  moscow (reuters) - russian oil major rosneft has received court summons for its chief executive ...   \n",
       "\n",
       "   label  \\\n",
       "0   True   \n",
       "1  False   \n",
       "2  False   \n",
       "3   True   \n",
       "4   True   \n",
       "\n",
       "                                                                                            text_clean  \\\n",
       "0   thousands of demonstrators are expected to turn out in washington next week for protests aiming...   \n",
       "1  is anyone else getting sick and tired of hearing all of the baseless lies being told about trump...   \n",
       "2  the pro-gun crowd loves guns first, and respect last. at least, that seems to be the case with w...   \n",
       "3   republican presidential candidate donald trump, a golf resort developer who has railed against ...   \n",
       "4   russian oil major rosneft has received court summons for its chief executive igor sechin to app...   \n",
       "\n",
       "                                                                                           text_nostop  \\\n",
       "0  ['', 'thousands', 'demonstrators', 'expected', 'turn', 'washington', 'next', 'week', 'protests',...   \n",
       "1  ['anyone', 'else', 'getting', 'sick', 'tired', 'hearing', 'baseless', 'lies', 'told', 'trump', '...   \n",
       "2  ['progun', 'crowd', 'loves', 'guns', 'first', 'respect', 'last', 'least', 'seems', 'case', 'whoe...   \n",
       "3  ['', 'republican', 'presidential', 'candidate', 'donald', 'trump', 'golf', 'resort', 'developer'...   \n",
       "4  ['', 'russian', 'oil', 'major', 'rosneft', 'received', 'court', 'summons', 'chief', 'executive',...   \n",
       "\n",
       "                                                                                          text_stemmed  \\\n",
       "0  ['', 'thousand', 'demonstr', 'expect', 'turn', 'washington', 'next', 'week', 'protest', 'aim', '...   \n",
       "1  ['anyon', 'els', 'get', 'sick', 'tire', 'hear', 'baseless', 'lie', 'told', 'trump', 'zero', 'evi...   \n",
       "2  ['progun', 'crowd', 'love', 'gun', 'first', 'respect', 'last', 'least', 'seem', 'case', 'whoever...   \n",
       "3  ['', 'republican', 'presidenti', 'candid', 'donald', 'trump', 'golf', 'resort', 'develop', 'rail...   \n",
       "4  ['', 'russian', 'oil', 'major', 'rosneft', 'receiv', 'court', 'summon', 'chief', 'execut', 'igor...   \n",
       "\n",
       "   body_len  punct%  \n",
       "0      2765     3.0  \n",
       "1       303     2.0  \n",
       "2      2528     2.5  \n",
       "3      2128     1.9  \n",
       "4       503     2.6  "
      ]
     },
     "execution_count": 8,
     "metadata": {},
     "output_type": "execute_result"
    }
   ],
   "source": [
    "data.head()"
   ]
  },
  {
   "cell_type": "markdown",
   "id": "3e25d150",
   "metadata": {},
   "source": [
    "### Split into train & test"
   ]
  },
  {
   "cell_type": "code",
   "execution_count": 9,
   "id": "909eabd4",
   "metadata": {},
   "outputs": [],
   "source": [
    "from sklearn.model_selection import train_test_split\n",
    "\n",
    "X_train, X_test, y_train, y_test = train_test_split(data[['text_stemmed', 'body_len']], data['label'], test_size=0.2, random_state=42) # columns to train & test on with test size as proportion of dataset"
   ]
  },
  {
   "cell_type": "markdown",
   "id": "96e50fd3",
   "metadata": {},
   "source": [
    "### Vectorize"
   ]
  },
  {
   "cell_type": "code",
   "execution_count": 10,
   "id": "d0aa7c97",
   "metadata": {},
   "outputs": [
    {
     "data": {
      "text/html": [
       "<div>\n",
       "<style scoped>\n",
       "    .dataframe tbody tr th:only-of-type {\n",
       "        vertical-align: middle;\n",
       "    }\n",
       "\n",
       "    .dataframe tbody tr th {\n",
       "        vertical-align: top;\n",
       "    }\n",
       "\n",
       "    .dataframe thead th {\n",
       "        text-align: right;\n",
       "    }\n",
       "</style>\n",
       "<table border=\"1\" class=\"dataframe\">\n",
       "  <thead>\n",
       "    <tr style=\"text-align: right;\">\n",
       "      <th></th>\n",
       "      <th>body_len</th>\n",
       "      <th>0</th>\n",
       "      <th>1</th>\n",
       "      <th>2</th>\n",
       "      <th>3</th>\n",
       "      <th>4</th>\n",
       "      <th>5</th>\n",
       "      <th>6</th>\n",
       "      <th>7</th>\n",
       "      <th>8</th>\n",
       "      <th>...</th>\n",
       "      <th>22966</th>\n",
       "      <th>22967</th>\n",
       "      <th>22968</th>\n",
       "      <th>22969</th>\n",
       "      <th>22970</th>\n",
       "      <th>22971</th>\n",
       "      <th>22972</th>\n",
       "      <th>22973</th>\n",
       "      <th>22974</th>\n",
       "      <th>22975</th>\n",
       "    </tr>\n",
       "  </thead>\n",
       "  <tbody>\n",
       "    <tr>\n",
       "      <th>0</th>\n",
       "      <td>2030</td>\n",
       "      <td>0.0</td>\n",
       "      <td>0.0</td>\n",
       "      <td>0.0</td>\n",
       "      <td>0.0</td>\n",
       "      <td>0.0</td>\n",
       "      <td>0.0</td>\n",
       "      <td>0.0</td>\n",
       "      <td>0.0</td>\n",
       "      <td>0.0</td>\n",
       "      <td>...</td>\n",
       "      <td>0.0</td>\n",
       "      <td>0.0</td>\n",
       "      <td>0.0</td>\n",
       "      <td>0.0</td>\n",
       "      <td>0.0</td>\n",
       "      <td>0.0</td>\n",
       "      <td>0.0</td>\n",
       "      <td>0.0</td>\n",
       "      <td>0.0</td>\n",
       "      <td>0.0</td>\n",
       "    </tr>\n",
       "    <tr>\n",
       "      <th>1</th>\n",
       "      <td>651</td>\n",
       "      <td>0.0</td>\n",
       "      <td>0.0</td>\n",
       "      <td>0.0</td>\n",
       "      <td>0.0</td>\n",
       "      <td>0.0</td>\n",
       "      <td>0.0</td>\n",
       "      <td>0.0</td>\n",
       "      <td>0.0</td>\n",
       "      <td>0.0</td>\n",
       "      <td>...</td>\n",
       "      <td>0.0</td>\n",
       "      <td>0.0</td>\n",
       "      <td>0.0</td>\n",
       "      <td>0.0</td>\n",
       "      <td>0.0</td>\n",
       "      <td>0.0</td>\n",
       "      <td>0.0</td>\n",
       "      <td>0.0</td>\n",
       "      <td>0.0</td>\n",
       "      <td>0.0</td>\n",
       "    </tr>\n",
       "    <tr>\n",
       "      <th>2</th>\n",
       "      <td>3604</td>\n",
       "      <td>0.0</td>\n",
       "      <td>0.0</td>\n",
       "      <td>0.0</td>\n",
       "      <td>0.0</td>\n",
       "      <td>0.0</td>\n",
       "      <td>0.0</td>\n",
       "      <td>0.0</td>\n",
       "      <td>0.0</td>\n",
       "      <td>0.0</td>\n",
       "      <td>...</td>\n",
       "      <td>0.0</td>\n",
       "      <td>0.0</td>\n",
       "      <td>0.0</td>\n",
       "      <td>0.0</td>\n",
       "      <td>0.0</td>\n",
       "      <td>0.0</td>\n",
       "      <td>0.0</td>\n",
       "      <td>0.0</td>\n",
       "      <td>0.0</td>\n",
       "      <td>0.0</td>\n",
       "    </tr>\n",
       "    <tr>\n",
       "      <th>3</th>\n",
       "      <td>819</td>\n",
       "      <td>0.0</td>\n",
       "      <td>0.0</td>\n",
       "      <td>0.0</td>\n",
       "      <td>0.0</td>\n",
       "      <td>0.0</td>\n",
       "      <td>0.0</td>\n",
       "      <td>0.0</td>\n",
       "      <td>0.0</td>\n",
       "      <td>0.0</td>\n",
       "      <td>...</td>\n",
       "      <td>0.0</td>\n",
       "      <td>0.0</td>\n",
       "      <td>0.0</td>\n",
       "      <td>0.0</td>\n",
       "      <td>0.0</td>\n",
       "      <td>0.0</td>\n",
       "      <td>0.0</td>\n",
       "      <td>0.0</td>\n",
       "      <td>0.0</td>\n",
       "      <td>0.0</td>\n",
       "    </tr>\n",
       "    <tr>\n",
       "      <th>4</th>\n",
       "      <td>570</td>\n",
       "      <td>0.0</td>\n",
       "      <td>0.0</td>\n",
       "      <td>0.0</td>\n",
       "      <td>0.0</td>\n",
       "      <td>0.0</td>\n",
       "      <td>0.0</td>\n",
       "      <td>0.0</td>\n",
       "      <td>0.0</td>\n",
       "      <td>0.0</td>\n",
       "      <td>...</td>\n",
       "      <td>0.0</td>\n",
       "      <td>0.0</td>\n",
       "      <td>0.0</td>\n",
       "      <td>0.0</td>\n",
       "      <td>0.0</td>\n",
       "      <td>0.0</td>\n",
       "      <td>0.0</td>\n",
       "      <td>0.0</td>\n",
       "      <td>0.0</td>\n",
       "      <td>0.0</td>\n",
       "    </tr>\n",
       "  </tbody>\n",
       "</table>\n",
       "<p>5 rows × 22977 columns</p>\n",
       "</div>"
      ],
      "text/plain": [
       "   body_len    0    1    2    3    4    5    6    7    8  ...  22966  22967  \\\n",
       "0      2030  0.0  0.0  0.0  0.0  0.0  0.0  0.0  0.0  0.0  ...    0.0    0.0   \n",
       "1       651  0.0  0.0  0.0  0.0  0.0  0.0  0.0  0.0  0.0  ...    0.0    0.0   \n",
       "2      3604  0.0  0.0  0.0  0.0  0.0  0.0  0.0  0.0  0.0  ...    0.0    0.0   \n",
       "3       819  0.0  0.0  0.0  0.0  0.0  0.0  0.0  0.0  0.0  ...    0.0    0.0   \n",
       "4       570  0.0  0.0  0.0  0.0  0.0  0.0  0.0  0.0  0.0  ...    0.0    0.0   \n",
       "\n",
       "   22968  22969  22970  22971  22972  22973  22974  22975  \n",
       "0    0.0    0.0    0.0    0.0    0.0    0.0    0.0    0.0  \n",
       "1    0.0    0.0    0.0    0.0    0.0    0.0    0.0    0.0  \n",
       "2    0.0    0.0    0.0    0.0    0.0    0.0    0.0    0.0  \n",
       "3    0.0    0.0    0.0    0.0    0.0    0.0    0.0    0.0  \n",
       "4    0.0    0.0    0.0    0.0    0.0    0.0    0.0    0.0  \n",
       "\n",
       "[5 rows x 22977 columns]"
      ]
     },
     "execution_count": 10,
     "metadata": {},
     "output_type": "execute_result"
    }
   ],
   "source": [
    "from sklearn.feature_extraction.text import TfidfVectorizer\n",
    "\n",
    "tfidf_vect = TfidfVectorizer()\n",
    "tfidf_vect_fit = tfidf_vect.fit(X_train['text_stemmed']) # this just fits the vectorizer it doesn't create the values yet, we use the transform function for that\n",
    "\n",
    "# Here (above & below) we're splitting the training and transorming steps to keep the training and test data separate\n",
    "\n",
    "# These two below will have the same number of columns as they're both being transformed using the 'tfidf_vect_fit' which was fit to the training data only\n",
    "tfidf_train = tfidf_vect_fit.transform(X_train['text_stemmed'])\n",
    "tfidf_test = tfidf_vect_fit.transform(X_test['text_stemmed'])\n",
    "\n",
    "X_train_vect = pd.concat([X_train[['body_len']].reset_index(drop=True), \n",
    "           pd.DataFrame(tfidf_train.toarray())], axis=1) \n",
    "# 'axis=1' stacks them side by side (when concatenated)\n",
    "X_test_vect = pd.concat([X_test[['body_len']].reset_index(drop=True), \n",
    "           pd.DataFrame(tfidf_test.toarray())], axis=1)\n",
    "\n",
    "X_train_vect.head()"
   ]
  },
  {
   "cell_type": "markdown",
   "id": "fe07a944",
   "metadata": {},
   "source": [
    "### Model Evaluation: Separated"
   ]
  },
  {
   "cell_type": "code",
   "execution_count": 11,
   "id": "0dc6fe7e",
   "metadata": {},
   "outputs": [],
   "source": [
    "from sklearn.ensemble import RandomForestClassifier, GradientBoostingClassifier\n",
    "from sklearn.metrics import precision_recall_fscore_support as score\n",
    "import time"
   ]
  },
  {
   "cell_type": "markdown",
   "id": "3ba2418a",
   "metadata": {},
   "source": [
    "### Evaluate Model: Random Forest Classifier"
   ]
  },
  {
   "cell_type": "code",
   "execution_count": 12,
   "id": "00c7dbfb",
   "metadata": {},
   "outputs": [
    {
     "name": "stderr",
     "output_type": "stream",
     "text": [
      "/Applications/anaconda3/lib/python3.8/site-packages/sklearn/utils/validation.py:1675: FutureWarning: Feature names only support names that are all strings. Got feature names with dtypes: ['int', 'str']. An error will be raised in 1.2.\n",
      "  warnings.warn(\n",
      "/Applications/anaconda3/lib/python3.8/site-packages/sklearn/utils/validation.py:1675: FutureWarning: Feature names only support names that are all strings. Got feature names with dtypes: ['int', 'str']. An error will be raised in 1.2.\n",
      "  warnings.warn(\n"
     ]
    }
   ],
   "source": [
    "rf = RandomForestClassifier(n_estimators=150, max_depth=None, n_jobs=-1, random_state=42)\n",
    "\n",
    "start = time.time()\n",
    "rf_model = rf.fit(X_train_vect, y_train)\n",
    "end = time.time()\n",
    "fit_time = (end - start)\n",
    "\n",
    "start = time.time()\n",
    "rf_y_pred = rf_model.predict(X_test_vect)\n",
    "end = time.time()\n",
    "pred_time = (end - start)"
   ]
  },
  {
   "cell_type": "code",
   "execution_count": 13,
   "id": "b61ef486",
   "metadata": {},
   "outputs": [
    {
     "name": "stdout",
     "output_type": "stream",
     "text": [
      "Fit time: 1.133 / Predict time: 0.163 ---- Precision: 0.965 / Recall: 0.936 / Accuracy: 0.95\n"
     ]
    }
   ],
   "source": [
    "precision, recall, fscore, train_support = score(y_test, rf_y_pred, pos_label=False, average='binary')\n",
    "print('Fit time: {} / Predict time: {} ---- Precision: {} / Recall: {} / Accuracy: {}'.format(\n",
    "    round(fit_time, 3), round(pred_time, 3), round(precision, 3), round(recall, 3), round((rf_y_pred==y_test).sum()/len(rf_y_pred), 3)))"
   ]
  },
  {
   "cell_type": "markdown",
   "id": "5da6c573",
   "metadata": {},
   "source": [
    "### Classification Report: Random Forest"
   ]
  },
  {
   "cell_type": "code",
   "execution_count": 14,
   "id": "df0fe4f5",
   "metadata": {},
   "outputs": [
    {
     "name": "stderr",
     "output_type": "stream",
     "text": [
      "/Applications/anaconda3/lib/python3.8/site-packages/yellowbrick/classifier/base.py:232: YellowbrickWarning: could not determine class_counts_ from previously fitted classifier\n",
      "  warnings.warn(\n",
      "/Applications/anaconda3/lib/python3.8/site-packages/sklearn/utils/validation.py:1675: FutureWarning: Feature names only support names that are all strings. Got feature names with dtypes: ['int', 'str']. An error will be raised in 1.2.\n",
      "  warnings.warn(\n",
      "/Applications/anaconda3/lib/python3.8/site-packages/sklearn/utils/validation.py:1675: FutureWarning: Feature names only support names that are all strings. Got feature names with dtypes: ['int', 'str']. An error will be raised in 1.2.\n",
      "  warnings.warn(\n"
     ]
    },
    {
     "data": {
      "image/png": "[encoded data removed]",
      "text/plain": [
       "<Figure size 432x216 with 2 Axes>"
      ]
     },
     "metadata": {},
     "output_type": "display_data"
    }
   ],
   "source": [
    "import matplotlib.pyplot as plt\n",
    "from yellowbrick.classifier import (\n",
    "    ClassificationReport,\n",
    ")\n",
    "mapping = {0: \"False\", 1: \"True\"}\n",
    "fig, ax = plt.subplots(figsize=(6, 3))\n",
    "cm_viz = ClassificationReport(\n",
    "    rf,\n",
    "    classes=[\"Fake\", \"Real\"],\n",
    "    label_encoder=mapping,\n",
    "    cmap=\"Greens\"\n",
    ")\n",
    "cm_viz.score(X_test_vect, y_test)\n",
    "cm_viz.poof()\n",
    "fig.savefig(\"images/rf_ClassReport.png\", dpi=300)"
   ]
  },
  {
   "cell_type": "markdown",
   "id": "a386c47f",
   "metadata": {},
   "source": [
    "### Confusion Matrix: Random Forest"
   ]
  },
  {
   "cell_type": "code",
   "execution_count": 15,
   "id": "437f05d7",
   "metadata": {},
   "outputs": [
    {
     "name": "stderr",
     "output_type": "stream",
     "text": [
      "/Applications/anaconda3/lib/python3.8/site-packages/sklearn/utils/deprecation.py:87: FutureWarning: Function plot_confusion_matrix is deprecated; Function `plot_confusion_matrix` is deprecated in 1.0 and will be removed in 1.2. Use one of the class methods: ConfusionMatrixDisplay.from_predictions or ConfusionMatrixDisplay.from_estimator.\n",
      "  warnings.warn(msg, category=FutureWarning)\n",
      "/Applications/anaconda3/lib/python3.8/site-packages/sklearn/utils/validation.py:1675: FutureWarning: Feature names only support names that are all strings. Got feature names with dtypes: ['int', 'str']. An error will be raised in 1.2.\n",
      "  warnings.warn(\n"
     ]
    },
    {
     "data": {
      "image/png": "[encoded data removed]",
      "text/plain": [
       "<Figure size 396x396 with 1 Axes>"
      ]
     },
     "metadata": {},
     "output_type": "display_data"
    }
   ],
   "source": [
    "import matplotlib.pyplot as plt\n",
    "from sklearn.metrics import plot_confusion_matrix\n",
    "\n",
    "f, ax = plt.subplots(1, 1, figsize=(5.5, 5.5))\n",
    "plot_confusion_matrix(rf_model,\n",
    "                      X_test_vect,\n",
    "                      y_test,\n",
    "                      cmap=plt.cm.Greens,\n",
    "                      display_labels=['Fake', 'Real'],\n",
    "                      colorbar=False,  # this argument only works with sklearn version 0.24 and up\n",
    "                      ax=ax)\n",
    "\n",
    "plt.savefig('images/RF_Conf_M.jpg', dpi=300, bbox_inches='tight')\n",
    "plt.tight_layout()"
   ]
  },
  {
   "cell_type": "markdown",
   "id": "afa7be50",
   "metadata": {},
   "source": [
    "### ROC Curve (Yellowbrick): Random Forest"
   ]
  },
  {
   "cell_type": "code",
   "execution_count": 18,
   "id": "af30333c",
   "metadata": {},
   "outputs": [
    {
     "name": "stderr",
     "output_type": "stream",
     "text": [
      "/Applications/anaconda3/lib/python3.8/site-packages/sklearn/utils/deprecation.py:87: FutureWarning: Function plot_roc_curve is deprecated; Function `plot_roc_curve` is deprecated in 1.0 and will be removed in 1.2. Use one of the class methods: RocCurveDisplay.from_predictions or RocCurveDisplay.from_estimator.\n",
      "  warnings.warn(msg, category=FutureWarning)\n",
      "/Applications/anaconda3/lib/python3.8/site-packages/sklearn/utils/validation.py:1675: FutureWarning: Feature names only support names that are all strings. Got feature names with dtypes: ['int', 'str']. An error will be raised in 1.2.\n",
      "  warnings.warn(\n"
     ]
    },
    {
     "data": {
      "image/png": "[encoded data removed]",
      "text/plain": [
       "<Figure size 576x396 with 1 Axes>"
      ]
     },
     "metadata": {},
     "output_type": "display_data"
    }
   ],
   "source": [
    "from sklearn.metrics import plot_roc_curve\n",
    "\n",
    "roc = plot_roc_curve(rf_model,\n",
    "                    X_test_vect,\n",
    "                    y_test,\n",
    "                    pos_label=False,\n",
    "                    color='Green')\n",
    "plt.savefig('images/rf_ROC_skl.png', dpi=300)\n",
    "plt.tight_layout()"
   ]
  },
  {
   "cell_type": "markdown",
   "id": "41d0fbb4",
   "metadata": {},
   "source": [
    "## Gradient Boosting"
   ]
  },
  {
   "cell_type": "markdown",
   "id": "2a80cbe0",
   "metadata": {},
   "source": [
    "### Evaluate Model: Gradient Boosting Classifier"
   ]
  },
  {
   "cell_type": "code",
   "execution_count": 19,
   "id": "f13a4eee",
   "metadata": {},
   "outputs": [
    {
     "name": "stderr",
     "output_type": "stream",
     "text": [
      "/Applications/anaconda3/lib/python3.8/site-packages/sklearn/utils/validation.py:1675: FutureWarning: Feature names only support names that are all strings. Got feature names with dtypes: ['int', 'str']. An error will be raised in 1.2.\n",
      "  warnings.warn(\n",
      "/Applications/anaconda3/lib/python3.8/site-packages/sklearn/utils/validation.py:1675: FutureWarning: Feature names only support names that are all strings. Got feature names with dtypes: ['int', 'str']. An error will be raised in 1.2.\n",
      "  warnings.warn(\n"
     ]
    }
   ],
   "source": [
    "gb = GradientBoostingClassifier(n_estimators=150, max_depth=11, random_state=42) # does random_state cause an error?\n",
    "\n",
    "start = time.time()\n",
    "gb_model = gb.fit(X_train_vect, y_train)\n",
    "end = time.time()\n",
    "fit_time = (end - start)\n",
    "\n",
    "start = time.time()\n",
    "gb_y_pred = gb_model.predict(X_test_vect)\n",
    "end = time.time()\n",
    "pred_time = (end - start)"
   ]
  },
  {
   "cell_type": "code",
   "execution_count": 20,
   "id": "91178136",
   "metadata": {},
   "outputs": [
    {
     "name": "stdout",
     "output_type": "stream",
     "text": [
      "Fit time: 135.251 / Predict time: 0.13 ---- Precision: 0.963 / Recall: 0.897 / Accuracy: 0.93\n"
     ]
    }
   ],
   "source": [
    "precision, recall, fscore, train_support = score(y_test, gb_y_pred, pos_label=False, average='binary')\n",
    "print('Fit time: {} / Predict time: {} ---- Precision: {} / Recall: {} / Accuracy: {}'.format(\n",
    "    round(fit_time, 3), round(pred_time, 3), round(precision, 3), round(recall, 3), round((gb_y_pred==y_test).sum()/len(gb_y_pred), 3)))"
   ]
  },
  {
   "cell_type": "markdown",
   "id": "1509368e",
   "metadata": {},
   "source": [
    "### Classification Report: Gradient Boost"
   ]
  },
  {
   "cell_type": "code",
   "execution_count": 22,
   "id": "02aff728",
   "metadata": {},
   "outputs": [
    {
     "name": "stderr",
     "output_type": "stream",
     "text": [
      "/Applications/anaconda3/lib/python3.8/site-packages/yellowbrick/classifier/base.py:232: YellowbrickWarning: could not determine class_counts_ from previously fitted classifier\n",
      "  warnings.warn(\n",
      "/Applications/anaconda3/lib/python3.8/site-packages/sklearn/utils/validation.py:1675: FutureWarning: Feature names only support names that are all strings. Got feature names with dtypes: ['int', 'str']. An error will be raised in 1.2.\n",
      "  warnings.warn(\n",
      "/Applications/anaconda3/lib/python3.8/site-packages/sklearn/utils/validation.py:1675: FutureWarning: Feature names only support names that are all strings. Got feature names with dtypes: ['int', 'str']. An error will be raised in 1.2.\n",
      "  warnings.warn(\n"
     ]
    },
    {
     "data": {
      "image/png": "[encoded data removed]",
      "text/plain": [
       "<Figure size 432x216 with 2 Axes>"
      ]
     },
     "metadata": {},
     "output_type": "display_data"
    }
   ],
   "source": [
    "import matplotlib.pyplot as plt\n",
    "from yellowbrick.classifier import (\n",
    "    ClassificationReport,\n",
    ")\n",
    "mapping = {0: \"False\", 1: \"True\"}\n",
    "fig, ax = plt.subplots(figsize=(6, 3))\n",
    "cm_viz = ClassificationReport(\n",
    "    gb,\n",
    "    classes=[\"Fake\", \"Real\"],\n",
    "    label_encoder=mapping,\n",
    "    cmap=\"Blues\"\n",
    ")\n",
    "cm_viz.score(X_test_vect, y_test)\n",
    "cm_viz.poof()\n",
    "fig.savefig(\"images/gb_ClassReport.png\", dpi=300)"
   ]
  },
  {
   "cell_type": "markdown",
   "id": "4b0a598b",
   "metadata": {},
   "source": [
    "### Confusion Matrix: Gradient Boost"
   ]
  },
  {
   "cell_type": "code",
   "execution_count": 23,
   "id": "aed1d7c4",
   "metadata": {
    "scrolled": true
   },
   "outputs": [
    {
     "name": "stderr",
     "output_type": "stream",
     "text": [
      "/Applications/anaconda3/lib/python3.8/site-packages/sklearn/utils/deprecation.py:87: FutureWarning: Function plot_confusion_matrix is deprecated; Function `plot_confusion_matrix` is deprecated in 1.0 and will be removed in 1.2. Use one of the class methods: ConfusionMatrixDisplay.from_predictions or ConfusionMatrixDisplay.from_estimator.\n",
      "  warnings.warn(msg, category=FutureWarning)\n",
      "/Applications/anaconda3/lib/python3.8/site-packages/sklearn/utils/validation.py:1675: FutureWarning: Feature names only support names that are all strings. Got feature names with dtypes: ['int', 'str']. An error will be raised in 1.2.\n",
      "  warnings.warn(\n"
     ]
    },
    {
     "data": {
      "image/png": "[encoded data removed]",
      "text/plain": [
       "<Figure size 396x396 with 1 Axes>"
      ]
     },
     "metadata": {},
     "output_type": "display_data"
    }
   ],
   "source": [
    "import matplotlib.pyplot as plt\n",
    "from sklearn.metrics import plot_confusion_matrix\n",
    "\n",
    "f, ax = plt.subplots(1, 1, figsize=(5.5, 5.5))\n",
    "plot_confusion_matrix(gb_model,\n",
    "                      X_test_vect,\n",
    "                      y_test,\n",
    "                      cmap=plt.cm.Blues,\n",
    "                      display_labels=['Fake', 'Real'],\n",
    "                      colorbar=False,  # this argument only works with sklearn version 0.24 and up\n",
    "                      ax=ax)\n",
    "\n",
    "plt.savefig('images/GB_Conf_M.jpg', dpi=300, bbox_inches='tight')\n",
    "plt.tight_layout()"
   ]
  },
  {
   "cell_type": "markdown",
   "id": "0cec7cd5",
   "metadata": {},
   "source": [
    "### ROC Curve: Gradient Boost"
   ]
  },
  {
   "cell_type": "code",
   "execution_count": 25,
   "id": "75e92f75",
   "metadata": {},
   "outputs": [
    {
     "name": "stderr",
     "output_type": "stream",
     "text": [
      "/Applications/anaconda3/lib/python3.8/site-packages/sklearn/utils/deprecation.py:87: FutureWarning: Function plot_roc_curve is deprecated; Function `plot_roc_curve` is deprecated in 1.0 and will be removed in 1.2. Use one of the class methods: RocCurveDisplay.from_predictions or RocCurveDisplay.from_estimator.\n",
      "  warnings.warn(msg, category=FutureWarning)\n",
      "/Applications/anaconda3/lib/python3.8/site-packages/sklearn/utils/validation.py:1675: FutureWarning: Feature names only support names that are all strings. Got feature names with dtypes: ['int', 'str']. An error will be raised in 1.2.\n",
      "  warnings.warn(\n"
     ]
    },
    {
     "data": {
      "image/png": "[encoded data removed]",
      "text/plain": [
       "<Figure size 576x396 with 1 Axes>"
      ]
     },
     "metadata": {},
     "output_type": "display_data"
    }
   ],
   "source": [
    "from sklearn.metrics import plot_roc_curve\n",
    "\n",
    "roc = plot_roc_curve(gb_model,\n",
    "                    X_test_vect,\n",
    "                    y_test,\n",
    "                    pos_label=False,\n",
    "                     color='Blue')\n",
    "plt.savefig('images/gb_ROC_skl.png', dpi=300)\n",
    "plt.show()"
   ]
  }
 ],
 "metadata": {
  "kernelspec": {
   "display_name": "Python 3 (ipykernel)",
   "language": "python",
   "name": "python3"
  },
  "language_info": {
   "codemirror_mode": {
    "name": "ipython",
    "version": 3
   },
   "file_extension": ".py",
   "mimetype": "text/x-python",
   "name": "python",
   "nbconvert_exporter": "python",
   "pygments_lexer": "ipython3",
   "version": "3.8.2"
  }
 },
 "nbformat": 4,
 "nbformat_minor": 5
}
