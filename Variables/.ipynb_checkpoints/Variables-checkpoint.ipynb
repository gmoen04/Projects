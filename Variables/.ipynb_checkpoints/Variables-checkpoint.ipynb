{
 "cells": [
  {
   "cell_type": "markdown",
   "id": "746f8e21",
   "metadata": {},
   "source": [
    "## Variables"
   ]
  },
  {
   "cell_type": "markdown",
   "id": "bad7fd85",
   "metadata": {},
   "source": [
    "### Integers"
   ]
  },
  {
   "cell_type": "code",
   "execution_count": 39,
   "id": "4001e87f",
   "metadata": {},
   "outputs": [
    {
     "name": "stdout",
     "output_type": "stream",
     "text": [
      "1\n",
      "3\n",
      "1\n"
     ]
    }
   ],
   "source": [
    "a = 1\n",
    "b = a\n",
    "c = b\n",
    "b = 3\n",
    "print(a)\n",
    "print(b)\n",
    "print(c)"
   ]
  },
  {
   "cell_type": "markdown",
   "id": "cb982aa1",
   "metadata": {},
   "source": [
    "### Integers: Result"
   ]
  },
  {
   "cell_type": "markdown",
   "id": "b169f29c",
   "metadata": {},
   "source": [
    "Integers are **immutable** so their values can't change. Changing the assignment of b to 3 doesn't affect the value of a or c."
   ]
  },
  {
   "cell_type": "markdown",
   "id": "81779e78",
   "metadata": {},
   "source": [
    "### Floats"
   ]
  },
  {
   "cell_type": "code",
   "execution_count": 40,
   "id": "6a479610",
   "metadata": {},
   "outputs": [
    {
     "name": "stdout",
     "output_type": "stream",
     "text": [
      "3.2\n",
      "4.2\n",
      "3.2\n"
     ]
    }
   ],
   "source": [
    "a = 3.2\n",
    "b = a\n",
    "c = b\n",
    "b = 4.2\n",
    "print(a)\n",
    "print(b)\n",
    "print(c)"
   ]
  },
  {
   "cell_type": "markdown",
   "id": "8f26da3b",
   "metadata": {},
   "source": [
    "### Floats: Result"
   ]
  },
  {
   "cell_type": "markdown",
   "id": "adf559c7",
   "metadata": {},
   "source": [
    "Floats are **immutable** so their values can't change. Changing the assignment of b to 4.2 doesn't affect the value of a or c."
   ]
  },
  {
   "cell_type": "markdown",
   "id": "bc92df7d",
   "metadata": {},
   "source": [
    "### Strings"
   ]
  },
  {
   "cell_type": "code",
   "execution_count": 41,
   "id": "6f761530",
   "metadata": {},
   "outputs": [
    {
     "name": "stdout",
     "output_type": "stream",
     "text": [
      "Hello\n",
      "Hello\n",
      "World\n",
      "Hello\n"
     ]
    }
   ],
   "source": [
    "a = \"Hello\"\n",
    "b = a\n",
    "c = b\n",
    "b = \"World\"\n",
    "print(a)\n",
    "print(b)\n",
    "print(c)"
   ]
  },
  {
   "cell_type": "markdown",
   "id": "275bcd19",
   "metadata": {},
   "source": [
    "### Results: Strings"
   ]
  },
  {
   "cell_type": "markdown",
   "id": "b56e4dc2",
   "metadata": {},
   "source": [
    "Strings are **immutable** so their values can't change. Changing the assignment of b to \"World\" doesn't change the value of a or c."
   ]
  },
  {
   "cell_type": "markdown",
   "id": "4d1d0ec4",
   "metadata": {},
   "source": [
    "### Tuples"
   ]
  },
  {
   "cell_type": "code",
   "execution_count": 47,
   "id": "77886c57",
   "metadata": {},
   "outputs": [
    {
     "name": "stdout",
     "output_type": "stream",
     "text": [
      "a = (1, 2, 3)\n",
      "a = (1, 2, 3)\n",
      "b = (1, 7, 3)\n",
      "c = (1, 2, 3)\n"
     ]
    }
   ],
   "source": [
    "a = (1, 2, 3)\n",
    "b = a\n",
    "c = b\n",
    "print(f\"a = {a}\")\n",
    "b = (1, 7, 3)\n",
    "print(f\"a = {a}\")\n",
    "print(f\"b = {b}\")\n",
    "print(f\"c = {c}\")\n",
    "\n",
    "# b[1] = 8 # this creates an error"
   ]
  },
  {
   "cell_type": "markdown",
   "id": "fcca2b6d",
   "metadata": {},
   "source": [
    "### Results: Tuples"
   ]
  },
  {
   "cell_type": "markdown",
   "id": "2ec69629",
   "metadata": {},
   "source": [
    "Tuples are **immutable** so we can't change the second element in the tuple (last line in the above code). Reassigning b to (1, 7, 3) has no effect on a or c."
   ]
  },
  {
   "cell_type": "markdown",
   "id": "cf566f43",
   "metadata": {},
   "source": [
    "### Lists"
   ]
  },
  {
   "cell_type": "code",
   "execution_count": 49,
   "id": "7839c633",
   "metadata": {
    "scrolled": true
   },
   "outputs": [
    {
     "name": "stdout",
     "output_type": "stream",
     "text": [
      "a = [1, 4, 3]\n",
      "id of a = 140420889913152\n",
      "b = [1, 4, 3]\n",
      "id of b = 140420889913152\n",
      "c = [1, 4, 3]\n",
      "id of c = 140420889913152\n",
      "id of d = 140420889956736\n",
      "id of e = 140420889956736\n",
      "id of f = 140420889956736\n",
      "d = [4, 5, 6]\n",
      "id of d = 140420889956736\n",
      "e = [7, 8, 9]\n",
      "id of e = 140420889809728\n",
      "f = [4, 5, 6]\n",
      "id of f = 140420889956736\n"
     ]
    }
   ],
   "source": [
    "# Change an element in the variable\n",
    "a = [1, 2, 3]\n",
    "b = a\n",
    "c = b\n",
    "b[1] = 4\n",
    "print(f\"a = {a}\")\n",
    "print(f'id of a = {id(a)}')\n",
    "print(f\"b = {b}\")\n",
    "print(f'id of b = {id(b)}')\n",
    "print(f'c = {c}')\n",
    "print(f'id of c = {id(c)}')\n",
    "\n",
    "#Set the variable d to a new value\n",
    "d = [4, 5, 6]\n",
    "e = d\n",
    "f = e\n",
    "print(f'id of d = {id(d)}')\n",
    "print(f'id of e = {id(e)}')\n",
    "print(f'id of f = {id(f)}')\n",
    "e = [7, 8, 9]\n",
    "print(f\"d = {d}\")\n",
    "print(f'id of d = {id(d)}')\n",
    "print(f\"e = {e}\")\n",
    "print(f'id of e = {id(e)}')\n",
    "print(f'f = {f}')\n",
    "print(f'id of f = {id(f)}')"
   ]
  },
  {
   "cell_type": "markdown",
   "id": "f32c610e",
   "metadata": {},
   "source": [
    "### Lists: Results"
   ]
  },
  {
   "cell_type": "markdown",
   "id": "04e4b627",
   "metadata": {},
   "source": [
    "Lists are **mutable**. \n",
    "\n",
    "Chainging an element in the list b changes the value in the list a and c. The three (a, b and c) also have the same id and are assigned to the same object. \n",
    "\n",
    "*Changing an element in a list object changes the value for all 'labels' assigned to it*.\n",
    "\n",
    "But if we set the value of the variable e to a new value, the value of d and f doesn't change, even though they were both previously equal to each other and had the same id. d is now assigned to a different object while d and f remain the same. \n",
    "\n",
    "*Changing the object assigned to a 'label' doesn't change the value of other 'labels' previously assigned to the same object*."
   ]
  },
  {
   "cell_type": "markdown",
   "id": "3b412063",
   "metadata": {},
   "source": [
    "### Dicts"
   ]
  },
  {
   "cell_type": "code",
   "execution_count": 48,
   "id": "dfa600e8",
   "metadata": {},
   "outputs": [
    {
     "name": "stdout",
     "output_type": "stream",
     "text": [
      "id of a = 140420890226752\n",
      "id of b = 140420890226752\n",
      "a = {'bird': 'eagle', 'mammal': 'elephant', 'feline': 'tiger'}\n",
      "id of a = 140420890226752\n",
      "b = {'bird': 'eagle', 'mammal': 'elephant', 'object': 'fork'}\n",
      "id of b = 140421148526016\n",
      "id of c = 140420890291584\n",
      "id of d = 140420890291584\n",
      "c = {'bird': 'eagle', 'mammal': 'elephant', 'feline': 'tiger'}\n",
      "id of c = 140420890291584\n",
      "d = {'colour': 'green', 'car': 'Toyota', 'fruit': 'apple'}\n",
      "id of d = 140420332238784\n"
     ]
    }
   ],
   "source": [
    "# changing an element in the dict\n",
    "a = {'bird':'eagle' , 'mammal':'elephant', 'feline':'tiger'}\n",
    "b = a\n",
    "print(f'id of a = {id(a)}')\n",
    "print(f'id of b = {id(b)}')\n",
    "b = {'bird':'eagle' , 'mammal':'elephant', 'object':'fork'}\n",
    "print(f\"a = {a}\")\n",
    "print(f'id of a = {id(a)}')\n",
    "print(f\"b = {b}\")\n",
    "print(f'id of b = {id(b)}')\n",
    "\n",
    "# reassigning the dict\n",
    "c = {'bird':'eagle' , 'mammal':'elephant', 'feline':'tiger'}\n",
    "d = c\n",
    "print(f'id of c = {id(c)}')\n",
    "print(f'id of d = {id(d)}')\n",
    "d = {'colour':'green' , 'car':'Toyota' , 'fruit':'apple'}\n",
    "print(f\"c = {c}\")\n",
    "print(f'id of c = {id(c)}')\n",
    "print(f\"d = {d}\")\n",
    "print(f'id of d = {id(d)}')"
   ]
  },
  {
   "cell_type": "markdown",
   "id": "d614adc7",
   "metadata": {},
   "source": [
    "### Results: Dicts"
   ]
  },
  {
   "cell_type": "markdown",
   "id": "195e39fc",
   "metadata": {},
   "source": [
    "Dicts are **mutable** objects. Changing one element in b has no effect on a although they were previously equal to each other. At the beginning they have the same id, but b then changes and has a new id.\n",
    "\n",
    "The same is true if we set d to a new value, c is unaffected and there is a new id for d."
   ]
  }
 ],
 "metadata": {
  "kernelspec": {
   "display_name": "Python 3 (ipykernel)",
   "language": "python",
   "name": "python3"
  },
  "language_info": {
   "codemirror_mode": {
    "name": "ipython",
    "version": 3
   },
   "file_extension": ".py",
   "mimetype": "text/x-python",
   "name": "python",
   "nbconvert_exporter": "python",
   "pygments_lexer": "ipython3",
   "version": "3.8.2"
  }
 },
 "nbformat": 4,
 "nbformat_minor": 5
}
