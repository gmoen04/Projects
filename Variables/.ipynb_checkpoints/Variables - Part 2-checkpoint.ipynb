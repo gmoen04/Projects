{
 "cells": [
  {
   "cell_type": "markdown",
   "id": "746f8e21",
   "metadata": {},
   "source": [
    "## Variables"
   ]
  },
  {
   "cell_type": "markdown",
   "id": "bad7fd85",
   "metadata": {},
   "source": [
    "### Integers"
   ]
  },
  {
   "cell_type": "code",
   "execution_count": 2,
   "id": "4001e87f",
   "metadata": {},
   "outputs": [
    {
     "name": "stdout",
     "output_type": "stream",
     "text": [
      "id of a = 4309113856\n",
      "id of b = 4309113856\n",
      "id of c = 4309113856\n",
      "1\n",
      "3\n",
      "1\n",
      "id of a = 4309113856\n",
      "id of b = 4309113920\n",
      "id of c = 4309113856\n"
     ]
    }
   ],
   "source": [
    "a = 1\n",
    "b = a\n",
    "c = b\n",
    "print(f'id of a = {id(a)}')\n",
    "print(f'id of b = {id(b)}')\n",
    "print(f'id of c = {id(c)}')\n",
    "b = 3\n",
    "print(a)\n",
    "print(b)\n",
    "print(c)\n",
    "print(f'id of a = {id(a)}')\n",
    "print(f'id of b = {id(b)}')\n",
    "print(f'id of c = {id(c)}')"
   ]
  },
  {
   "cell_type": "markdown",
   "id": "cb982aa1",
   "metadata": {},
   "source": [
    "### Result: Integers"
   ]
  },
  {
   "cell_type": "markdown",
   "id": "b169f29c",
   "metadata": {},
   "source": [
    "The id of a, b and c are the same before we set the value of b to 3 after which a and c reference the same object while be references a different object. Here variables act like labels."
   ]
  },
  {
   "cell_type": "markdown",
   "id": "81779e78",
   "metadata": {},
   "source": [
    "### Floats"
   ]
  },
  {
   "cell_type": "code",
   "execution_count": 3,
   "id": "6a479610",
   "metadata": {},
   "outputs": [
    {
     "name": "stdout",
     "output_type": "stream",
     "text": [
      "id of a = 140459256413424\n",
      "id of b = 140459256413424\n",
      "id of c = 140459256413424\n",
      "3.2\n",
      "4.2\n",
      "3.2\n",
      "id of a = 140459256413424\n",
      "id of b = 140459256410736\n",
      "id of c = 140459256413424\n"
     ]
    }
   ],
   "source": [
    "a = 3.2\n",
    "b = a\n",
    "c = b\n",
    "print(f'id of a = {id(a)}')\n",
    "print(f'id of b = {id(b)}')\n",
    "print(f'id of c = {id(c)}')\n",
    "b = 4.2\n",
    "print(a)\n",
    "print(b)\n",
    "print(c)\n",
    "print(f'id of a = {id(a)}')\n",
    "print(f'id of b = {id(b)}')\n",
    "print(f'id of c = {id(c)}')"
   ]
  },
  {
   "cell_type": "markdown",
   "id": "8f26da3b",
   "metadata": {},
   "source": [
    "### Result: Floats"
   ]
  },
  {
   "cell_type": "markdown",
   "id": "adf559c7",
   "metadata": {},
   "source": [
    "Similar to integers the id of a, b and c are the same before we set the value of b to 4.2 after which a and c reference the same object while be references a different object. Here variables also act like labels."
   ]
  },
  {
   "cell_type": "markdown",
   "id": "bc92df7d",
   "metadata": {},
   "source": [
    "### Strings"
   ]
  },
  {
   "cell_type": "code",
   "execution_count": 4,
   "id": "6f761530",
   "metadata": {},
   "outputs": [
    {
     "name": "stdout",
     "output_type": "stream",
     "text": [
      "id of a = 140458723423920\n",
      "id of b = 140458723423920\n",
      "id of c = 140458723423920\n",
      "Hello\n",
      "World\n",
      "Hello\n",
      "id of a = 140458723423920\n",
      "id of b = 140458723432880\n",
      "id of c = 140458723423920\n"
     ]
    }
   ],
   "source": [
    "a = \"Hello\"\n",
    "b = a\n",
    "c = b\n",
    "print(f'id of a = {id(a)}')\n",
    "print(f'id of b = {id(b)}')\n",
    "print(f'id of c = {id(c)}')\n",
    "b = \"World\"\n",
    "print(a)\n",
    "print(b)\n",
    "print(c)\n",
    "print(f'id of a = {id(a)}')\n",
    "print(f'id of b = {id(b)}')\n",
    "print(f'id of c = {id(c)}')"
   ]
  },
  {
   "cell_type": "markdown",
   "id": "275bcd19",
   "metadata": {},
   "source": [
    "### Result: Strings"
   ]
  },
  {
   "cell_type": "markdown",
   "id": "b56e4dc2",
   "metadata": {},
   "source": [
    "Similar to above the id of a, b and c are the same before we set the value of b to 'World' after which a and c still reference the same object while be references a different object. Here variables also act like labels."
   ]
  },
  {
   "cell_type": "markdown",
   "id": "4d1d0ec4",
   "metadata": {},
   "source": [
    "### Tuples"
   ]
  },
  {
   "cell_type": "code",
   "execution_count": 5,
   "id": "77886c57",
   "metadata": {},
   "outputs": [
    {
     "name": "stdout",
     "output_type": "stream",
     "text": [
      "a = (1, 2, 3)\n",
      "id of a = 140458202924864\n",
      "id of b = 140458202924864\n",
      "id of c = 140458202924864\n",
      "a = (1, 2, 3)\n",
      "b = (1, 7, 3)\n",
      "c = (1, 2, 3)\n",
      "id of a = 140458202924864\n",
      "id of b = 140458203065664\n",
      "id of c = 140458202924864\n"
     ]
    }
   ],
   "source": [
    "a = (1, 2, 3)\n",
    "b = a\n",
    "c = b\n",
    "print(f\"a = {a}\")\n",
    "print(f'id of a = {id(a)}')\n",
    "print(f'id of b = {id(b)}')\n",
    "print(f'id of c = {id(c)}')\n",
    "b = (1, 7, 3)\n",
    "print(f\"a = {a}\")\n",
    "print(f\"b = {b}\")\n",
    "print(f\"c = {c}\")\n",
    "print(f'id of a = {id(a)}')\n",
    "print(f'id of b = {id(b)}')\n",
    "print(f'id of c = {id(c)}')\n",
    "\n",
    "# b[1] = 8 # this creates an error"
   ]
  },
  {
   "cell_type": "markdown",
   "id": "fcca2b6d",
   "metadata": {},
   "source": [
    "### Result: Tuples"
   ]
  },
  {
   "cell_type": "markdown",
   "id": "2ec69629",
   "metadata": {},
   "source": [
    "Similar to above the id of a, b and c are the same before we set the value of b to (1, 7, 3) after which a and c still reference the same object while be references a different object. Here variables also act like labels."
   ]
  },
  {
   "cell_type": "markdown",
   "id": "cf566f43",
   "metadata": {},
   "source": [
    "### Lists"
   ]
  },
  {
   "cell_type": "code",
   "execution_count": 8,
   "id": "7839c633",
   "metadata": {
    "scrolled": true
   },
   "outputs": [
    {
     "name": "stdout",
     "output_type": "stream",
     "text": [
      "id of a = 140458723494464\n",
      "id of b = 140458723494464\n",
      "id of c = 140458723494464\n",
      "a = [1, 4, 3]\n",
      "b = [1, 4, 3]\n",
      "c = [1, 4, 3]\n",
      "id of a = 140458723494464\n",
      "id of b = 140458723494464\n",
      "id of c = 140458723494464\n",
      "id of d = 140458723477696\n",
      "id of e = 140458723477696\n",
      "id of f = 140458723477696\n",
      "d = [4, 5, 6]\n",
      "e = [7, 8, 9]\n",
      "f = [4, 5, 6]\n",
      "id of d = 140458723477696\n",
      "id of e = 140458723501376\n",
      "id of f = 140458723477696\n"
     ]
    }
   ],
   "source": [
    "# Change an element in the variable\n",
    "a = [1, 2, 3]\n",
    "b = a\n",
    "c = b\n",
    "print(f'id of a = {id(a)}')\n",
    "print(f'id of b = {id(b)}')\n",
    "print(f'id of c = {id(c)}')\n",
    "b[1] = 4\n",
    "print(f\"a = {a}\")\n",
    "print(f\"b = {b}\")\n",
    "print(f'c = {c}')\n",
    "print(f'id of a = {id(a)}')\n",
    "print(f'id of b = {id(b)}')\n",
    "print(f'id of c = {id(c)}')\n",
    "\n",
    "#Set the variable e to a new value\n",
    "d = [4, 5, 6]\n",
    "e = d\n",
    "f = e\n",
    "print(f'id of d = {id(d)}')\n",
    "print(f'id of e = {id(e)}')\n",
    "print(f'id of f = {id(f)}')\n",
    "e = [7, 8, 9]\n",
    "print(f\"d = {d}\")\n",
    "print(f\"e = {e}\")\n",
    "print(f'f = {f}')\n",
    "print(f'id of d = {id(d)}')\n",
    "print(f'id of e = {id(e)}')\n",
    "print(f'id of f = {id(f)}')"
   ]
  },
  {
   "cell_type": "markdown",
   "id": "f32c610e",
   "metadata": {},
   "source": [
    "### Result: Lists"
   ]
  },
  {
   "cell_type": "markdown",
   "id": "04e4b627",
   "metadata": {},
   "source": [
    "The id of a, b and c are the same before changing one element in the list. After chaning the second element in b the id of the object remains the same and a and c still reference that same object. \n",
    "\n",
    "*ie Changing an element in a list object doesn't change its id but changes the value for all 'labels' assigned to it*.\n",
    "\n",
    "The id of d, e and f are the same before we reset the value of e to [7, 8, 9]. After resetting the value of e its id changes while the ids of d and f remain the same.\n",
    "\n",
    "*ie Changing the object assigned to a particular 'label' doesn't change the id of other 'labels' previously assigned to the same object*."
   ]
  },
  {
   "cell_type": "markdown",
   "id": "3b412063",
   "metadata": {},
   "source": [
    "### Dicts"
   ]
  },
  {
   "cell_type": "code",
   "execution_count": 37,
   "id": "dfa600e8",
   "metadata": {},
   "outputs": [
    {
     "name": "stdout",
     "output_type": "stream",
     "text": [
      "id of a = 140458723499840, id of b = 140458723499840\n",
      "a = {'bird': 'robin', 'mammal': 'elephant', 'feline': 'tiger'}, b = {'bird': 'robin', 'mammal': 'elephant', 'feline': 'tiger'}\n",
      "id of a = 140458723499840, id of b = 140458723499840\n",
      "id of c = 140458723497728, id of d = 140458723497728\n",
      "c = {'bird': 'eagle', 'mammal': 'elephant', 'feline': 'tiger'}, d = {'colour': 'green', 'car': 'Toyota', 'fruit': 'apple'}\n",
      "id of c = 140458723497728, id of d = 140458723486144\n"
     ]
    }
   ],
   "source": [
    "# changing an element in the dict\n",
    "a = {'bird':'eagle' , 'mammal':'elephant', 'feline':'tiger'}\n",
    "b = a\n",
    "print(f'id of a = {id(a)}, id of b = {id(b)}')\n",
    "b['bird'] = 'robin' # select key to change value\n",
    "print(f\"a = {a}, b = {b}\")\n",
    "print(f'id of a = {id(a)}, id of b = {id(b)}')\n",
    "\n",
    "# reassigning the dict\n",
    "c = {'bird':'eagle' , 'mammal':'elephant', 'feline':'tiger'}\n",
    "d = c\n",
    "print(f'id of c = {id(c)}, id of d = {id(d)}')\n",
    "d = {'colour':'green' , 'car':'Toyota' , 'fruit':'apple'}\n",
    "print(f'c = {c}, d = {d}')\n",
    "print(f'id of c = {id(c)}, id of d = {id(d)}')"
   ]
  },
  {
   "cell_type": "markdown",
   "id": "d614adc7",
   "metadata": {},
   "source": [
    "### Result: Dicts"
   ]
  },
  {
   "cell_type": "markdown",
   "id": "195e39fc",
   "metadata": {},
   "source": [
    "The ids of a and b are the same before changing the value of one element in b. After this the id of b remains the same as the id for a as both still reference the same object.\n",
    "\n",
    "*Changing one element in b changes the same element in a*. \n",
    "\n",
    "After resetting the value of b its id changes but the id of a doesn't so they are referencing different objects at that point."
   ]
  }
 ],
 "metadata": {
  "kernelspec": {
   "display_name": "Python 3 (ipykernel)",
   "language": "python",
   "name": "python3"
  },
  "language_info": {
   "codemirror_mode": {
    "name": "ipython",
    "version": 3
   },
   "file_extension": ".py",
   "mimetype": "text/x-python",
   "name": "python",
   "nbconvert_exporter": "python",
   "pygments_lexer": "ipython3",
   "version": "3.8.2"
  }
 },
 "nbformat": 4,
 "nbformat_minor": 5
}
